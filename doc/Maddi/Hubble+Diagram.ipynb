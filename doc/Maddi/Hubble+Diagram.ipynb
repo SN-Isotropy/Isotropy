{
 "cells": [
  {
   "cell_type": "code",
   "execution_count": 109,
   "metadata": {
    "collapsed": false
   },
   "outputs": [],
   "source": [
    "import numpy as np\n",
    "%matplotlib inline\n",
    "import matplotlib.pyplot as plt\n",
    "from collections import OrderedDict as odict"
   ]
  },
  {
   "cell_type": "markdown",
   "metadata": {},
   "source": [
    "Load the SN light curve fits that were generated in [this notebook](https://github.com/djreiss/AnalyzeSN/blob/master/notebooks/LC%20fitting%202.ipynb).\n",
    "\n",
    "This is an array of \"SN fit\" objects. An example is printed at the end of this cell:"
   ]
  },
  {
   "cell_type": "code",
   "execution_count": 110,
   "metadata": {
    "collapsed": false
   },
   "outputs": [
    {
     "name": "stdout",
     "output_type": "stream",
     "text": [
      "1622\n",
      "1549\n"
     ]
    },
    {
     "data": {
      "text/plain": [
       "z                                                        1.09799\n",
       "t0                                                       51298.8\n",
       "x0                                                   5.04702e-07\n",
       "x1                                                       4.01727\n",
       "c                                                       0.240365\n",
       "hostebv                                                        0\n",
       "hostr_v                                                      3.1\n",
       "mwebv                                                          0\n",
       "mwr_v                                                        3.1\n",
       "mu                                                       15.5573\n",
       "mu_var                                                  0.691992\n",
       "inputParams    {'t0': 51295.2, 'x0': 5.88266e-07, 'x1': 0.304...\n",
       "dtype: object"
      ]
     },
     "execution_count": 110,
     "metadata": {},
     "output_type": "execute_result"
    }
   ],
   "source": [
    "import sys\n",
    "import gzip, pickle\n",
    "\n",
    "if sys.version.startswith('2'):\n",
    "    snFits = pickle.load(gzip.GzipFile('snFits.p.gz'))\n",
    "else:\n",
    "    snFits = pickle.load(gzip.GzipFile('snFits.p.gz'),\n",
    "                     encoding='latin1')\n",
    "print(len(snFits))\n",
    "snf = [s for s in snFits.values() if s is not None]\n",
    "print(len(snf))\n",
    "snf[0]"
   ]
  },
  {
   "cell_type": "markdown",
   "metadata": {},
   "source": [
    "Use list comprehension to extract the redshift (`z`) and fitted distance modulus (`mu`) from each of the supernova light curve fits. Each of those becomes its own array of numbers.\n",
    "\n",
    "Also extract `mu_var`. Need to do this in a loop since for some light curve fits `mu_var` doesn't exist (for a reason that I am not sure of right now)."
   ]
  },
  {
   "cell_type": "code",
   "execution_count": 111,
   "metadata": {
    "collapsed": false
   },
   "outputs": [],
   "source": [
    "z = np.array([s.z for s in snf])\n",
    "mu = np.array([s.mu for s in snf])\n",
    "\n",
    "mu_var = mu.copy() #np.array([s.mu_var for s in snf])\n",
    "for i,s in enumerate(snf):\n",
    "    try:\n",
    "        mu_var[i] = s.mu_var\n",
    "    except:\n",
    "        mu_var[i] = 999\n",
    "\n",
    "# Here, we didn't fit z so zz and z will be identical.\n",
    "zz = z.copy() #np.array([s['inputParams'].get('z') for s in snf]) \n",
    "for i,s in enumerate(snf):\n",
    "    try:\n",
    "        zz[i] = s['inputParams'].get('z')\n",
    "    except:\n",
    "        zz[i] = 999"
   ]
  },
  {
   "cell_type": "markdown",
   "metadata": {},
   "source": [
    "Filter the data to remove points that are probably way wrong (e.g. too high or too low `mu`).\n",
    "\n",
    "TODO: we need to look at some of these bad points and understand why their fits gave incorrect results."
   ]
  },
  {
   "cell_type": "code",
   "execution_count": 112,
   "metadata": {
    "collapsed": false
   },
   "outputs": [
    {
     "name": "stderr",
     "output_type": "stream",
     "text": [
      "C:\\Users\\maddi\\Anaconda3\\lib\\site-packages\\ipykernel\\__main__.py:4: VisibleDeprecationWarning: boolean index did not match indexed array along dimension 0; dimension is 1549 but corresponding boolean dimension is 1439\n"
     ]
    }
   ],
   "source": [
    "z = z[(mu > 0) & (mu < 19)]\n",
    "zz = zz[(mu > 0) & (mu < 19)]\n",
    "mu = mu[(mu > 0) & (mu < 19)]\n",
    "mu_var = mu_var[(mu > 0) & (mu < 19)]"
   ]
  },
  {
   "cell_type": "markdown",
   "metadata": {},
   "source": [
    "Plot the Hubble diagram."
   ]
  },
  {
   "cell_type": "code",
   "execution_count": 113,
   "metadata": {
    "collapsed": false
   },
   "outputs": [
    {
     "data": {
      "image/png": "[encoded data removed]",
      "text/plain": [
       "<matplotlib.figure.Figure at 0x1f4189c7898>"
      ]
     },
     "metadata": {},
     "output_type": "display_data"
    }
   ],
   "source": [
    "#plt.scatter(z, mu)\n",
    "plt.errorbar(z, mu, yerr=np.sqrt(mu_var), fmt='o', ecolor='r', elinewidth=1, ms=2)\n",
    "plt.xlabel('z')\n",
    "plt.xscale('log')\n",
    "plt.ylabel('mu + const')\n",
    "plt.xlim((0.2,1.4))\n",
    "plt.ylim((8,18));"
   ]
  },
  {
   "cell_type": "markdown",
   "metadata": {},
   "source": [
    "The `mu`s computed above are offset by some constant that we do not know yet. Let's estimate that offset by computing a Hubble diagram for a model cosmology."
   ]
  },
  {
   "cell_type": "code",
   "execution_count": 114,
   "metadata": {
    "collapsed": false
   },
   "outputs": [],
   "source": [
    "from astropy.cosmology import Planck15 as cosmo\n",
    "mu = np.array([s.mu for s in snf])\n",
    "x0 = np.array([s.x0 for s in snf])\n",
    "x0 = x0[(mu > 0) & (mu < 19)]\n",
    "x1 = np.array([s.x1 for s in snf])\n",
    "x1 = x1[(mu > 0) & (mu < 19)]\n",
    "c = np.array([s.c for s in snf])\n",
    "c = c[(mu > 0) & (mu < 19)]\n",
    "mu = mu[(mu > 0) & (mu < 19)]\n",
    "muz = np.array(cosmo.distmod(z))\n",
    "\n",
    "alpha = 0.14\n",
    "beta = -3.11\n",
    "M = -2.5 * np.log10(x0) + alpha * x1 + beta * c - muz\n",
    "# plt.scatter(z, muz)\n",
    "# plt.xlabel('z')\n",
    "# plt.xscale('log')\n",
    "# plt.xlim((0.2,1.4))\n",
    "# plt.ylabel('mu')\n",
    "# plt.ylim((39,45));"
   ]
  },
  {
   "cell_type": "markdown",
   "metadata": {},
   "source": [
    "Compute the constant offset as the median of the differences between the cosmological `mu` and the fitted SN `mu`."
   ]
  },
  {
   "cell_type": "code",
   "execution_count": 115,
   "metadata": {
    "collapsed": false
   },
   "outputs": [
    {
     "name": "stdout",
     "output_type": "stream",
     "text": [
      "29.7558162588\n"
     ]
    },
    {
     "data": {
      "text/plain": [
       "[<matplotlib.lines.Line2D at 0x1f419be1dd8>]"
      ]
     },
     "execution_count": 115,
     "metadata": {},
     "output_type": "execute_result"
    },
    {
     "data": {
      "image/png": "[encoded data removed]",
      "text/plain": [
       "<matplotlib.figure.Figure at 0x1f418bb8278>"
      ]
     },
     "metadata": {},
     "output_type": "display_data"
    }
   ],
   "source": [
    "const = np.median(muz-mu)\n",
    "print(const)\n",
    "plt.scatter(z,muz-mu)\n",
    "plt.plot([0,1.4],[const,const],'r')"
   ]
  },
  {
   "cell_type": "code",
   "execution_count": 116,
   "metadata": {
    "collapsed": false
   },
   "outputs": [
    {
     "data": {
      "image/png": "[encoded data removed]",
      "text/plain": [
       "<matplotlib.figure.Figure at 0x1f41b636358>"
      ]
     },
     "metadata": {},
     "output_type": "display_data"
    }
   ],
   "source": [
    "plt.errorbar(z, mu+const, yerr=np.sqrt(mu_var), fmt='o', ecolor='r', elinewidth=1, ms=2)\n",
    "plt.xlabel('z')\n",
    "plt.xscale('log')\n",
    "plt.ylabel('mu + const')\n",
    "plt.xlim((0.2,1.4))\n",
    "plt.xticks(np.arange(0.2,1.4,0.2))\n",
    "plt.ylim((39,48));"
   ]
  },
  {
   "cell_type": "code",
   "execution_count": 117,
   "metadata": {
    "collapsed": false
   },
   "outputs": [
    {
     "data": {
      "text/plain": [
       "[<matplotlib.lines.Line2D at 0x1f417933668>]"
      ]
     },
     "execution_count": 117,
     "metadata": {},
     "output_type": "execute_result"
    },
    {
     "data": {
      "image/png": "[encoded data removed]",
      "text/plain": [
       "<matplotlib.figure.Figure at 0x1f418c67208>"
      ]
     },
     "metadata": {},
     "output_type": "display_data"
    }
   ],
   "source": [
    "plt.plot(z, np.sqrt(mu_var), 'o')\n"
   ]
  },
  {
   "cell_type": "code",
   "execution_count": 118,
   "metadata": {
    "collapsed": true
   },
   "outputs": [],
   "source": [
    "import pandas as pd"
   ]
  },
  {
   "cell_type": "code",
   "execution_count": 119,
   "metadata": {
    "collapsed": false
   },
   "outputs": [],
   "source": [
    "df= pd.DataFrame(snFits)"
   ]
  },
  {
   "cell_type": "code",
   "execution_count": 120,
   "metadata": {
    "collapsed": false
   },
   "outputs": [
    {
     "data": {
      "text/html": [
       "<div>\n",
       "<table border=\"1\" class=\"dataframe\">\n",
       "  <thead>\n",
       "    <tr style=\"text-align: right;\">\n",
       "      <th></th>\n",
       "      <th>10005</th>\n",
       "      <th>10018</th>\n",
       "      <th>10024</th>\n",
       "      <th>10034</th>\n",
       "      <th>10059</th>\n",
       "      <th>10087</th>\n",
       "      <th>10092</th>\n",
       "      <th>10135</th>\n",
       "      <th>10136</th>\n",
       "      <th>1014</th>\n",
       "      <th>...</th>\n",
       "      <th>9875</th>\n",
       "      <th>9893</th>\n",
       "      <th>9906</th>\n",
       "      <th>9919</th>\n",
       "      <th>9940</th>\n",
       "      <th>9956</th>\n",
       "      <th>9966</th>\n",
       "      <th>9996</th>\n",
       "      <th>9997</th>\n",
       "      <th>9998</th>\n",
       "    </tr>\n",
       "  </thead>\n",
       "  <tbody>\n",
       "    <tr>\n",
       "      <th>c</th>\n",
       "      <td>-0.121929</td>\n",
       "      <td>None</td>\n",
       "      <td>0.136068</td>\n",
       "      <td>0.0450403</td>\n",
       "      <td>-0.313476</td>\n",
       "      <td>0.0462698</td>\n",
       "      <td>0.0988343</td>\n",
       "      <td>-0.0298518</td>\n",
       "      <td>0.0776311</td>\n",
       "      <td>-0.00395545</td>\n",
       "      <td>...</td>\n",
       "      <td>0.151322</td>\n",
       "      <td>0.0332876</td>\n",
       "      <td>0.0601968</td>\n",
       "      <td>-0.064084</td>\n",
       "      <td>-0.0992085</td>\n",
       "      <td>0.168553</td>\n",
       "      <td>0.224081</td>\n",
       "      <td>-0.0279898</td>\n",
       "      <td>-0.0690699</td>\n",
       "      <td>0.554351</td>\n",
       "    </tr>\n",
       "    <tr>\n",
       "      <th>hostebv</th>\n",
       "      <td>0</td>\n",
       "      <td>None</td>\n",
       "      <td>0</td>\n",
       "      <td>0</td>\n",
       "      <td>0</td>\n",
       "      <td>0</td>\n",
       "      <td>0</td>\n",
       "      <td>0</td>\n",
       "      <td>0</td>\n",
       "      <td>0</td>\n",
       "      <td>...</td>\n",
       "      <td>0</td>\n",
       "      <td>0</td>\n",
       "      <td>0</td>\n",
       "      <td>0</td>\n",
       "      <td>0</td>\n",
       "      <td>0</td>\n",
       "      <td>0</td>\n",
       "      <td>0</td>\n",
       "      <td>0</td>\n",
       "      <td>0</td>\n",
       "    </tr>\n",
       "    <tr>\n",
       "      <th>hostr_v</th>\n",
       "      <td>3.1</td>\n",
       "      <td>None</td>\n",
       "      <td>3.1</td>\n",
       "      <td>3.1</td>\n",
       "      <td>3.1</td>\n",
       "      <td>3.1</td>\n",
       "      <td>3.1</td>\n",
       "      <td>3.1</td>\n",
       "      <td>3.1</td>\n",
       "      <td>3.1</td>\n",
       "      <td>...</td>\n",
       "      <td>3.1</td>\n",
       "      <td>3.1</td>\n",
       "      <td>3.1</td>\n",
       "      <td>3.1</td>\n",
       "      <td>3.1</td>\n",
       "      <td>3.1</td>\n",
       "      <td>3.1</td>\n",
       "      <td>3.1</td>\n",
       "      <td>3.1</td>\n",
       "      <td>3.1</td>\n",
       "    </tr>\n",
       "    <tr>\n",
       "      <th>inputParams</th>\n",
       "      <td>{'t0': 51366.4, 'x0': 2.33246e-06, 'x1': 0.316...</td>\n",
       "      <td>None</td>\n",
       "      <td>{'t0': 49526.4, 'x0': 1.89643e-06, 'x1': -0.00...</td>\n",
       "      <td>{'t0': 49797.0, 'x0': 3.91948e-06, 'x1': 1.333...</td>\n",
       "      <td>{'t0': 52299.5, 'x0': 7.96518e-07, 'x1': -2.15...</td>\n",
       "      <td>{'t0': 51916.5, 'x0': 1.34099e-06, 'x1': -1.35...</td>\n",
       "      <td>{'t0': 51660.8, 'x0': 2.02691e-05, 'x1': 0.810...</td>\n",
       "      <td>{'t0': 52956.3, 'x0': 1.50645e-06, 'x1': -0.17...</td>\n",
       "      <td>{'t0': 51869.1, 'x0': 2.08861e-06, 'x1': -0.03...</td>\n",
       "      <td>{'t0': 52625.4, 'x0': 1.57086e-05, 'x1': -0.05...</td>\n",
       "      <td>...</td>\n",
       "      <td>{'t0': 50537.5, 'x0': 1.49797e-06, 'x1': 0.749...</td>\n",
       "      <td>{'t0': 50317.4, 'x0': 5.31459e-06, 'x1': 0.939...</td>\n",
       "      <td>{'t0': 50247.6, 'x0': 8.27902e-06, 'x1': 1.859...</td>\n",
       "      <td>{'t0': 52795.5, 'x0': 5.27805e-06, 'x1': -0.88...</td>\n",
       "      <td>{'t0': 52282.4, 'x0': 1.59866e-05, 'x1': 0.300...</td>\n",
       "      <td>{'t0': 51434.1, 'x0': 1.5377e-06, 'x1': -2.071...</td>\n",
       "      <td>{'t0': 49728.8, 'x0': 3.29583e-06, 'x1': 1.077...</td>\n",
       "      <td>{'t0': 51182.1, 'x0': 6.8868e-06, 'x1': 1.9237...</td>\n",
       "      <td>{'t0': 51692.7, 'x0': 2.44391e-06, 'x1': -0.47...</td>\n",
       "      <td>{'t0': 52220.0, 'x0': 3.92665e-05, 'x1': -0.11...</td>\n",
       "    </tr>\n",
       "    <tr>\n",
       "      <th>mu</th>\n",
       "      <td>14.4485</td>\n",
       "      <td>None</td>\n",
       "      <td>14.6638</td>\n",
       "      <td>14.293</td>\n",
       "      <td>15.3082</td>\n",
       "      <td>14.3719</td>\n",
       "      <td>18.5476</td>\n",
       "      <td>14.7065</td>\n",
       "      <td>13.6749</td>\n",
       "      <td>11.9806</td>\n",
       "      <td>...</td>\n",
       "      <td>17.3679</td>\n",
       "      <td>13.2705</td>\n",
       "      <td>12.6044</td>\n",
       "      <td>13.1048</td>\n",
       "      <td>12.4316</td>\n",
       "      <td>13.7975</td>\n",
       "      <td>13.3523</td>\n",
       "      <td>13.3476</td>\n",
       "      <td>14.0323</td>\n",
       "      <td>2.41581</td>\n",
       "    </tr>\n",
       "  </tbody>\n",
       "</table>\n",
       "<p>5 rows × 1622 columns</p>\n",
       "</div>"
      ],
      "text/plain": [
       "                                                         10005 10018  \\\n",
       "c                                                    -0.121929  None   \n",
       "hostebv                                                      0  None   \n",
       "hostr_v                                                    3.1  None   \n",
       "inputParams  {'t0': 51366.4, 'x0': 2.33246e-06, 'x1': 0.316...  None   \n",
       "mu                                                     14.4485  None   \n",
       "\n",
       "                                                         10024  \\\n",
       "c                                                     0.136068   \n",
       "hostebv                                                      0   \n",
       "hostr_v                                                    3.1   \n",
       "inputParams  {'t0': 49526.4, 'x0': 1.89643e-06, 'x1': -0.00...   \n",
       "mu                                                     14.6638   \n",
       "\n",
       "                                                         10034  \\\n",
       "c                                                    0.0450403   \n",
       "hostebv                                                      0   \n",
       "hostr_v                                                    3.1   \n",
       "inputParams  {'t0': 49797.0, 'x0': 3.91948e-06, 'x1': 1.333...   \n",
       "mu                                                      14.293   \n",
       "\n",
       "                                                         10059  \\\n",
       "c                                                    -0.313476   \n",
       "hostebv                                                      0   \n",
       "hostr_v                                                    3.1   \n",
       "inputParams  {'t0': 52299.5, 'x0': 7.96518e-07, 'x1': -2.15...   \n",
       "mu                                                     15.3082   \n",
       "\n",
       "                                                         10087  \\\n",
       "c                                                    0.0462698   \n",
       "hostebv                                                      0   \n",
       "hostr_v                                                    3.1   \n",
       "inputParams  {'t0': 51916.5, 'x0': 1.34099e-06, 'x1': -1.35...   \n",
       "mu                                                     14.3719   \n",
       "\n",
       "                                                         10092  \\\n",
       "c                                                    0.0988343   \n",
       "hostebv                                                      0   \n",
       "hostr_v                                                    3.1   \n",
       "inputParams  {'t0': 51660.8, 'x0': 2.02691e-05, 'x1': 0.810...   \n",
       "mu                                                     18.5476   \n",
       "\n",
       "                                                         10135  \\\n",
       "c                                                   -0.0298518   \n",
       "hostebv                                                      0   \n",
       "hostr_v                                                    3.1   \n",
       "inputParams  {'t0': 52956.3, 'x0': 1.50645e-06, 'x1': -0.17...   \n",
       "mu                                                     14.7065   \n",
       "\n",
       "                                                         10136  \\\n",
       "c                                                    0.0776311   \n",
       "hostebv                                                      0   \n",
       "hostr_v                                                    3.1   \n",
       "inputParams  {'t0': 51869.1, 'x0': 2.08861e-06, 'x1': -0.03...   \n",
       "mu                                                     13.6749   \n",
       "\n",
       "                                                          1014  \\\n",
       "c                                                  -0.00395545   \n",
       "hostebv                                                      0   \n",
       "hostr_v                                                    3.1   \n",
       "inputParams  {'t0': 52625.4, 'x0': 1.57086e-05, 'x1': -0.05...   \n",
       "mu                                                     11.9806   \n",
       "\n",
       "                                   ...                          \\\n",
       "c                                  ...                           \n",
       "hostebv                            ...                           \n",
       "hostr_v                            ...                           \n",
       "inputParams                        ...                           \n",
       "mu                                 ...                           \n",
       "\n",
       "                                                          9875  \\\n",
       "c                                                     0.151322   \n",
       "hostebv                                                      0   \n",
       "hostr_v                                                    3.1   \n",
       "inputParams  {'t0': 50537.5, 'x0': 1.49797e-06, 'x1': 0.749...   \n",
       "mu                                                     17.3679   \n",
       "\n",
       "                                                          9893  \\\n",
       "c                                                    0.0332876   \n",
       "hostebv                                                      0   \n",
       "hostr_v                                                    3.1   \n",
       "inputParams  {'t0': 50317.4, 'x0': 5.31459e-06, 'x1': 0.939...   \n",
       "mu                                                     13.2705   \n",
       "\n",
       "                                                          9906  \\\n",
       "c                                                    0.0601968   \n",
       "hostebv                                                      0   \n",
       "hostr_v                                                    3.1   \n",
       "inputParams  {'t0': 50247.6, 'x0': 8.27902e-06, 'x1': 1.859...   \n",
       "mu                                                     12.6044   \n",
       "\n",
       "                                                          9919  \\\n",
       "c                                                    -0.064084   \n",
       "hostebv                                                      0   \n",
       "hostr_v                                                    3.1   \n",
       "inputParams  {'t0': 52795.5, 'x0': 5.27805e-06, 'x1': -0.88...   \n",
       "mu                                                     13.1048   \n",
       "\n",
       "                                                          9940  \\\n",
       "c                                                   -0.0992085   \n",
       "hostebv                                                      0   \n",
       "hostr_v                                                    3.1   \n",
       "inputParams  {'t0': 52282.4, 'x0': 1.59866e-05, 'x1': 0.300...   \n",
       "mu                                                     12.4316   \n",
       "\n",
       "                                                          9956  \\\n",
       "c                                                     0.168553   \n",
       "hostebv                                                      0   \n",
       "hostr_v                                                    3.1   \n",
       "inputParams  {'t0': 51434.1, 'x0': 1.5377e-06, 'x1': -2.071...   \n",
       "mu                                                     13.7975   \n",
       "\n",
       "                                                          9966  \\\n",
       "c                                                     0.224081   \n",
       "hostebv                                                      0   \n",
       "hostr_v                                                    3.1   \n",
       "inputParams  {'t0': 49728.8, 'x0': 3.29583e-06, 'x1': 1.077...   \n",
       "mu                                                     13.3523   \n",
       "\n",
       "                                                          9996  \\\n",
       "c                                                   -0.0279898   \n",
       "hostebv                                                      0   \n",
       "hostr_v                                                    3.1   \n",
       "inputParams  {'t0': 51182.1, 'x0': 6.8868e-06, 'x1': 1.9237...   \n",
       "mu                                                     13.3476   \n",
       "\n",
       "                                                          9997  \\\n",
       "c                                                   -0.0690699   \n",
       "hostebv                                                      0   \n",
       "hostr_v                                                    3.1   \n",
       "inputParams  {'t0': 51692.7, 'x0': 2.44391e-06, 'x1': -0.47...   \n",
       "mu                                                     14.0323   \n",
       "\n",
       "                                                          9998  \n",
       "c                                                     0.554351  \n",
       "hostebv                                                      0  \n",
       "hostr_v                                                    3.1  \n",
       "inputParams  {'t0': 52220.0, 'x0': 3.92665e-05, 'x1': -0.11...  \n",
       "mu                                                     2.41581  \n",
       "\n",
       "[5 rows x 1622 columns]"
      ]
     },
     "execution_count": 120,
     "metadata": {},
     "output_type": "execute_result"
    }
   ],
   "source": [
    "df.head()"
   ]
  },
  {
   "cell_type": "code",
   "execution_count": 121,
   "metadata": {
    "collapsed": false
   },
   "outputs": [],
   "source": [
    "df.transpose()\n",
    "df=df.transpose()"
   ]
  },
  {
   "cell_type": "code",
   "execution_count": 122,
   "metadata": {
    "collapsed": false
   },
   "outputs": [
    {
     "data": {
      "text/html": [
       "<div>\n",
       "<table border=\"1\" class=\"dataframe\">\n",
       "  <thead>\n",
       "    <tr style=\"text-align: right;\">\n",
       "      <th></th>\n",
       "      <th>z</th>\n",
       "      <th>mu</th>\n",
       "      <th>mu_var</th>\n",
       "    </tr>\n",
       "  </thead>\n",
       "  <tbody>\n",
       "    <tr>\n",
       "      <th>10005</th>\n",
       "      <td>0.968958</td>\n",
       "      <td>14.4485</td>\n",
       "      <td>0.253021</td>\n",
       "    </tr>\n",
       "    <tr>\n",
       "      <th>10018</th>\n",
       "      <td>None</td>\n",
       "      <td>None</td>\n",
       "      <td>None</td>\n",
       "    </tr>\n",
       "    <tr>\n",
       "      <th>10024</th>\n",
       "      <td>0.861278</td>\n",
       "      <td>14.6638</td>\n",
       "      <td>0.276984</td>\n",
       "    </tr>\n",
       "    <tr>\n",
       "      <th>10034</th>\n",
       "      <td>0.820012</td>\n",
       "      <td>14.293</td>\n",
       "      <td>0.301233</td>\n",
       "    </tr>\n",
       "    <tr>\n",
       "      <th>10059</th>\n",
       "      <td>1.041</td>\n",
       "      <td>15.3082</td>\n",
       "      <td>0.537081</td>\n",
       "    </tr>\n",
       "  </tbody>\n",
       "</table>\n",
       "</div>"
      ],
      "text/plain": [
       "              z       mu    mu_var\n",
       "10005  0.968958  14.4485  0.253021\n",
       "10018      None     None      None\n",
       "10024  0.861278  14.6638  0.276984\n",
       "10034  0.820012   14.293  0.301233\n",
       "10059     1.041  15.3082  0.537081"
      ]
     },
     "execution_count": 122,
     "metadata": {},
     "output_type": "execute_result"
    }
   ],
   "source": [
    "results= df[['z','mu','mu_var']]\n",
    "results.head()"
   ]
  },
  {
   "cell_type": "code",
   "execution_count": 123,
   "metadata": {
    "collapsed": false
   },
   "outputs": [],
   "source": [
    "lowz= results.query('z<.4')"
   ]
  },
  {
   "cell_type": "code",
   "execution_count": 124,
   "metadata": {
    "collapsed": false
   },
   "outputs": [
    {
     "data": {
      "image/png": "[encoded data removed]",
      "text/plain": [
       "<matplotlib.figure.Figure at 0x1f4177a5b70>"
      ]
     },
     "metadata": {},
     "output_type": "display_data"
    }
   ],
   "source": [
    "_ = plt.hist(lowz['mu_var'], bins=np.arange(0., 15, 0.5), histtype='step', normed=1)"
   ]
  },
  {
   "cell_type": "code",
   "execution_count": 125,
   "metadata": {
    "collapsed": true
   },
   "outputs": [],
   "source": [
    "highz= results.query('z>.7')"
   ]
  },
  {
   "cell_type": "code",
   "execution_count": 126,
   "metadata": {
    "collapsed": false
   },
   "outputs": [
    {
     "data": {
      "image/png": "[encoded data removed]",
      "text/plain": [
       "<matplotlib.figure.Figure at 0x1f418b1ebe0>"
      ]
     },
     "metadata": {},
     "output_type": "display_data"
    }
   ],
   "source": [
    "_ = plt.hist(highz['mu_var'], bins=np.arange(0., 15, 0.5), histtype='step', normed=1)"
   ]
  },
  {
   "cell_type": "code",
   "execution_count": 127,
   "metadata": {
    "collapsed": false
   },
   "outputs": [
    {
     "name": "stderr",
     "output_type": "stream",
     "text": [
      "C:\\Users\\maddi\\Anaconda3\\lib\\site-packages\\ipykernel\\__main__.py:1: SettingWithCopyWarning: \n",
      "A value is trying to be set on a copy of a slice from a DataFrame.\n",
      "Try using .loc[row_indexer,col_indexer] = value instead\n",
      "\n",
      "See the caveats in the documentation: http://pandas.pydata.org/pandas-docs/stable/indexing.html#indexing-view-versus-copy\n",
      "  if __name__ == '__main__':\n"
     ]
    }
   ],
   "source": [
    "results['bindex']= results['z']//0.1"
   ]
  },
  {
   "cell_type": "code",
   "execution_count": 128,
   "metadata": {
    "collapsed": false
   },
   "outputs": [
    {
     "data": {
      "text/html": [
       "<div>\n",
       "<table border=\"1\" class=\"dataframe\">\n",
       "  <thead>\n",
       "    <tr style=\"text-align: right;\">\n",
       "      <th></th>\n",
       "      <th>z</th>\n",
       "      <th>mu</th>\n",
       "      <th>mu_var</th>\n",
       "      <th>bindex</th>\n",
       "    </tr>\n",
       "  </thead>\n",
       "  <tbody>\n",
       "    <tr>\n",
       "      <th>10005</th>\n",
       "      <td>0.968958</td>\n",
       "      <td>14.4485</td>\n",
       "      <td>0.253021</td>\n",
       "      <td>9</td>\n",
       "    </tr>\n",
       "    <tr>\n",
       "      <th>10018</th>\n",
       "      <td>None</td>\n",
       "      <td>None</td>\n",
       "      <td>None</td>\n",
       "      <td>NaN</td>\n",
       "    </tr>\n",
       "    <tr>\n",
       "      <th>10024</th>\n",
       "      <td>0.861278</td>\n",
       "      <td>14.6638</td>\n",
       "      <td>0.276984</td>\n",
       "      <td>8</td>\n",
       "    </tr>\n",
       "    <tr>\n",
       "      <th>10034</th>\n",
       "      <td>0.820012</td>\n",
       "      <td>14.293</td>\n",
       "      <td>0.301233</td>\n",
       "      <td>8</td>\n",
       "    </tr>\n",
       "    <tr>\n",
       "      <th>10059</th>\n",
       "      <td>1.041</td>\n",
       "      <td>15.3082</td>\n",
       "      <td>0.537081</td>\n",
       "      <td>10</td>\n",
       "    </tr>\n",
       "  </tbody>\n",
       "</table>\n",
       "</div>"
      ],
      "text/plain": [
       "              z       mu    mu_var bindex\n",
       "10005  0.968958  14.4485  0.253021      9\n",
       "10018      None     None      None    NaN\n",
       "10024  0.861278  14.6638  0.276984      8\n",
       "10034  0.820012   14.293  0.301233      8\n",
       "10059     1.041  15.3082  0.537081     10"
      ]
     },
     "execution_count": 128,
     "metadata": {},
     "output_type": "execute_result"
    }
   ],
   "source": [
    "results.head()"
   ]
  },
  {
   "cell_type": "code",
   "execution_count": 129,
   "metadata": {
    "collapsed": false
   },
   "outputs": [
    {
     "name": "stderr",
     "output_type": "stream",
     "text": [
      "C:\\Users\\maddi\\Anaconda3\\lib\\site-packages\\pandas\\core\\frame.py:2378: SettingWithCopyWarning: \n",
      "A value is trying to be set on a copy of a slice from a DataFrame.\n",
      "Try using .loc[row_indexer,col_indexer] = value instead\n",
      "\n",
      "See the caveats in the documentation: http://pandas.pydata.org/pandas-docs/stable/indexing.html#indexing-view-versus-copy\n",
      "  self[k1] = value[k2]\n"
     ]
    }
   ],
   "source": [
    "results[['z', 'mu_var', 'mu']] = results[['z', 'mu_var', 'mu']].astype(np.float)"
   ]
  },
  {
   "cell_type": "code",
   "execution_count": 130,
   "metadata": {
    "collapsed": false
   },
   "outputs": [],
   "source": [
    "dic = dict(mu_var=np.mean, )"
   ]
  },
  {
   "cell_type": "code",
   "execution_count": 131,
   "metadata": {
    "collapsed": false
   },
   "outputs": [
    {
     "data": {
      "text/html": [
       "<div>\n",
       "<table border=\"1\" class=\"dataframe\">\n",
       "  <thead>\n",
       "    <tr style=\"text-align: right;\">\n",
       "      <th></th>\n",
       "      <th>mu_var</th>\n",
       "    </tr>\n",
       "    <tr>\n",
       "      <th>bindex</th>\n",
       "      <th></th>\n",
       "    </tr>\n",
       "  </thead>\n",
       "  <tbody>\n",
       "    <tr>\n",
       "      <th>0.0</th>\n",
       "      <td>0.139478</td>\n",
       "    </tr>\n",
       "    <tr>\n",
       "      <th>1.0</th>\n",
       "      <td>2.432930</td>\n",
       "    </tr>\n",
       "    <tr>\n",
       "      <th>2.0</th>\n",
       "      <td>5.754754</td>\n",
       "    </tr>\n",
       "    <tr>\n",
       "      <th>3.0</th>\n",
       "      <td>0.904804</td>\n",
       "    </tr>\n",
       "    <tr>\n",
       "      <th>4.0</th>\n",
       "      <td>1697.436214</td>\n",
       "    </tr>\n",
       "    <tr>\n",
       "      <th>5.0</th>\n",
       "      <td>92.723792</td>\n",
       "    </tr>\n",
       "    <tr>\n",
       "      <th>6.0</th>\n",
       "      <td>3.099264</td>\n",
       "    </tr>\n",
       "    <tr>\n",
       "      <th>7.0</th>\n",
       "      <td>2015.048042</td>\n",
       "    </tr>\n",
       "    <tr>\n",
       "      <th>8.0</th>\n",
       "      <td>7480.100546</td>\n",
       "    </tr>\n",
       "    <tr>\n",
       "      <th>9.0</th>\n",
       "      <td>35.741047</td>\n",
       "    </tr>\n",
       "    <tr>\n",
       "      <th>10.0</th>\n",
       "      <td>221.750473</td>\n",
       "    </tr>\n",
       "    <tr>\n",
       "      <th>11.0</th>\n",
       "      <td>5773.061635</td>\n",
       "    </tr>\n",
       "  </tbody>\n",
       "</table>\n",
       "</div>"
      ],
      "text/plain": [
       "             mu_var\n",
       "bindex             \n",
       "0.0        0.139478\n",
       "1.0        2.432930\n",
       "2.0        5.754754\n",
       "3.0        0.904804\n",
       "4.0     1697.436214\n",
       "5.0       92.723792\n",
       "6.0        3.099264\n",
       "7.0     2015.048042\n",
       "8.0     7480.100546\n",
       "9.0       35.741047\n",
       "10.0     221.750473\n",
       "11.0    5773.061635"
      ]
     },
     "execution_count": 131,
     "metadata": {},
     "output_type": "execute_result"
    }
   ],
   "source": [
    "mean=results.groupby('bindex').agg(dic)\n",
    "mean"
   ]
  },
  {
   "cell_type": "code",
   "execution_count": 132,
   "metadata": {
    "collapsed": false
   },
   "outputs": [],
   "source": [
    "#sd= dict(mu_var=np.std, )"
   ]
  },
  {
   "cell_type": "code",
   "execution_count": 133,
   "metadata": {
    "collapsed": false
   },
   "outputs": [
    {
     "ename": "NameError",
     "evalue": "name 'sd' is not defined",
     "output_type": "error",
     "traceback": [
      "\u001b[0;31m---------------------------------------------------------------------------\u001b[0m",
      "\u001b[0;31mNameError\u001b[0m                                 Traceback (most recent call last)",
      "\u001b[0;32m<ipython-input-133-baeb17e9c7d2>\u001b[0m in \u001b[0;36m<module>\u001b[0;34m()\u001b[0m\n\u001b[0;32m----> 1\u001b[0;31m \u001b[0mresults\u001b[0m\u001b[1;33m.\u001b[0m\u001b[0mgroupby\u001b[0m\u001b[1;33m(\u001b[0m\u001b[1;34m'bindex'\u001b[0m\u001b[1;33m)\u001b[0m\u001b[1;33m.\u001b[0m\u001b[0magg\u001b[0m\u001b[1;33m(\u001b[0m\u001b[0msd\u001b[0m\u001b[1;33m)\u001b[0m\u001b[1;33m\u001b[0m\u001b[0m\n\u001b[0m",
      "\u001b[0;31mNameError\u001b[0m: name 'sd' is not defined"
     ]
    }
   ],
   "source": [
    "results.groupby('bindex').agg(sd)"
   ]
  },
  {
   "cell_type": "code",
   "execution_count": 134,
   "metadata": {
    "collapsed": false
   },
   "outputs": [
    {
     "name": "stderr",
     "output_type": "stream",
     "text": [
      "C:\\Users\\maddi\\Anaconda3\\lib\\site-packages\\ipykernel\\__main__.py:1: SettingWithCopyWarning: \n",
      "A value is trying to be set on a copy of a slice from a DataFrame.\n",
      "Try using .loc[row_indexer,col_indexer] = value instead\n",
      "\n",
      "See the caveats in the documentation: http://pandas.pydata.org/pandas-docs/stable/indexing.html#indexing-view-versus-copy\n",
      "  if __name__ == '__main__':\n"
     ]
    }
   ],
   "source": [
    "results['mu_err']=np.sqrt(results['mu_var'])"
   ]
  },
  {
   "cell_type": "code",
   "execution_count": 135,
   "metadata": {
    "collapsed": false
   },
   "outputs": [
    {
     "data": {
      "text/html": [
       "<div>\n",
       "<table border=\"1\" class=\"dataframe\">\n",
       "  <thead>\n",
       "    <tr style=\"text-align: right;\">\n",
       "      <th></th>\n",
       "      <th>z</th>\n",
       "      <th>mu</th>\n",
       "      <th>mu_var</th>\n",
       "      <th>bindex</th>\n",
       "      <th>mu_err</th>\n",
       "    </tr>\n",
       "  </thead>\n",
       "  <tbody>\n",
       "    <tr>\n",
       "      <th>10005</th>\n",
       "      <td>0.968958</td>\n",
       "      <td>14.448511</td>\n",
       "      <td>0.253021</td>\n",
       "      <td>9</td>\n",
       "      <td>0.503012</td>\n",
       "    </tr>\n",
       "    <tr>\n",
       "      <th>10018</th>\n",
       "      <td>NaN</td>\n",
       "      <td>NaN</td>\n",
       "      <td>NaN</td>\n",
       "      <td>NaN</td>\n",
       "      <td>NaN</td>\n",
       "    </tr>\n",
       "    <tr>\n",
       "      <th>10024</th>\n",
       "      <td>0.861278</td>\n",
       "      <td>14.663764</td>\n",
       "      <td>0.276984</td>\n",
       "      <td>8</td>\n",
       "      <td>0.526293</td>\n",
       "    </tr>\n",
       "    <tr>\n",
       "      <th>10034</th>\n",
       "      <td>0.820012</td>\n",
       "      <td>14.292957</td>\n",
       "      <td>0.301233</td>\n",
       "      <td>8</td>\n",
       "      <td>0.548847</td>\n",
       "    </tr>\n",
       "    <tr>\n",
       "      <th>10059</th>\n",
       "      <td>1.040996</td>\n",
       "      <td>15.308183</td>\n",
       "      <td>0.537081</td>\n",
       "      <td>10</td>\n",
       "      <td>0.732858</td>\n",
       "    </tr>\n",
       "  </tbody>\n",
       "</table>\n",
       "</div>"
      ],
      "text/plain": [
       "              z         mu    mu_var bindex    mu_err\n",
       "10005  0.968958  14.448511  0.253021      9  0.503012\n",
       "10018       NaN        NaN       NaN    NaN       NaN\n",
       "10024  0.861278  14.663764  0.276984      8  0.526293\n",
       "10034  0.820012  14.292957  0.301233      8  0.548847\n",
       "10059  1.040996  15.308183  0.537081     10  0.732858"
      ]
     },
     "execution_count": 135,
     "metadata": {},
     "output_type": "execute_result"
    }
   ],
   "source": [
    "results.head()"
   ]
  },
  {
   "cell_type": "code",
   "execution_count": 136,
   "metadata": {
    "collapsed": true
   },
   "outputs": [],
   "source": [
    "def clipped_mean(mu_err, outlier_threshold):\n",
    "    return np.mean(mu_err['mu_err<outlier_threshold'])"
   ]
  },
  {
   "cell_type": "code",
   "execution_count": 137,
   "metadata": {
    "collapsed": true
   },
   "outputs": [],
   "source": [
    "grouped=results.groupby('bindex')"
   ]
  },
  {
   "cell_type": "code",
   "execution_count": 138,
   "metadata": {
    "collapsed": false
   },
   "outputs": [
    {
     "data": {
      "text/html": [
       "<div>\n",
       "<table border=\"1\" class=\"dataframe\">\n",
       "  <thead>\n",
       "    <tr>\n",
       "      <th></th>\n",
       "      <th colspan=\"3\" halign=\"left\">mu_err</th>\n",
       "    </tr>\n",
       "    <tr>\n",
       "      <th></th>\n",
       "      <th>count</th>\n",
       "      <th>mean</th>\n",
       "      <th>std</th>\n",
       "    </tr>\n",
       "    <tr>\n",
       "      <th>bindex</th>\n",
       "      <th></th>\n",
       "      <th></th>\n",
       "      <th></th>\n",
       "    </tr>\n",
       "  </thead>\n",
       "  <tbody>\n",
       "    <tr>\n",
       "      <th>0.0</th>\n",
       "      <td>1</td>\n",
       "      <td>0.373468</td>\n",
       "      <td>NaN</td>\n",
       "    </tr>\n",
       "    <tr>\n",
       "      <th>1.0</th>\n",
       "      <td>6</td>\n",
       "      <td>1.103441</td>\n",
       "      <td>1.207650</td>\n",
       "    </tr>\n",
       "    <tr>\n",
       "      <th>2.0</th>\n",
       "      <td>14</td>\n",
       "      <td>1.307009</td>\n",
       "      <td>2.087522</td>\n",
       "    </tr>\n",
       "    <tr>\n",
       "      <th>3.0</th>\n",
       "      <td>55</td>\n",
       "      <td>0.570498</td>\n",
       "      <td>0.768157</td>\n",
       "    </tr>\n",
       "    <tr>\n",
       "      <th>4.0</th>\n",
       "      <td>89</td>\n",
       "      <td>6.898620</td>\n",
       "      <td>40.848421</td>\n",
       "    </tr>\n",
       "    <tr>\n",
       "      <th>5.0</th>\n",
       "      <td>108</td>\n",
       "      <td>2.104664</td>\n",
       "      <td>9.440305</td>\n",
       "    </tr>\n",
       "    <tr>\n",
       "      <th>6.0</th>\n",
       "      <td>152</td>\n",
       "      <td>0.719500</td>\n",
       "      <td>1.612042</td>\n",
       "    </tr>\n",
       "    <tr>\n",
       "      <th>7.0</th>\n",
       "      <td>206</td>\n",
       "      <td>5.152529</td>\n",
       "      <td>44.701225</td>\n",
       "    </tr>\n",
       "    <tr>\n",
       "      <th>8.0</th>\n",
       "      <td>228</td>\n",
       "      <td>10.158995</td>\n",
       "      <td>86.077829</td>\n",
       "    </tr>\n",
       "    <tr>\n",
       "      <th>9.0</th>\n",
       "      <td>236</td>\n",
       "      <td>1.476631</td>\n",
       "      <td>5.805465</td>\n",
       "    </tr>\n",
       "    <tr>\n",
       "      <th>10.0</th>\n",
       "      <td>257</td>\n",
       "      <td>2.408266</td>\n",
       "      <td>14.723936</td>\n",
       "    </tr>\n",
       "    <tr>\n",
       "      <th>11.0</th>\n",
       "      <td>195</td>\n",
       "      <td>7.374892</td>\n",
       "      <td>75.816557</td>\n",
       "    </tr>\n",
       "  </tbody>\n",
       "</table>\n",
       "</div>"
      ],
      "text/plain": [
       "       mu_err                      \n",
       "        count       mean        std\n",
       "bindex                             \n",
       "0.0         1   0.373468        NaN\n",
       "1.0         6   1.103441   1.207650\n",
       "2.0        14   1.307009   2.087522\n",
       "3.0        55   0.570498   0.768157\n",
       "4.0        89   6.898620  40.848421\n",
       "5.0       108   2.104664   9.440305\n",
       "6.0       152   0.719500   1.612042\n",
       "7.0       206   5.152529  44.701225\n",
       "8.0       228  10.158995  86.077829\n",
       "9.0       236   1.476631   5.805465\n",
       "10.0      257   2.408266  14.723936\n",
       "11.0      195   7.374892  75.816557"
      ]
     },
     "execution_count": 138,
     "metadata": {},
     "output_type": "execute_result"
    }
   ],
   "source": [
    "mu_err_table=grouped.agg(dict(mu_err=['count', np.mean, np.std]))\n",
    "mu_err_table"
   ]
  },
  {
   "cell_type": "code",
   "execution_count": 139,
   "metadata": {
    "collapsed": false
   },
   "outputs": [],
   "source": [
    "mu_err_table['frequencies'] = mu_err_table.mu_err['count'] / mu_err_table.mu_err['count'].sum()"
   ]
  },
  {
   "cell_type": "code",
   "execution_count": 140,
   "metadata": {
    "collapsed": false
   },
   "outputs": [
    {
     "data": {
      "text/html": [
       "<div>\n",
       "<table border=\"1\" class=\"dataframe\">\n",
       "  <thead>\n",
       "    <tr>\n",
       "      <th></th>\n",
       "      <th colspan=\"3\" halign=\"left\">mu_err</th>\n",
       "      <th>frequencies</th>\n",
       "    </tr>\n",
       "    <tr>\n",
       "      <th></th>\n",
       "      <th>count</th>\n",
       "      <th>mean</th>\n",
       "      <th>std</th>\n",
       "      <th></th>\n",
       "    </tr>\n",
       "    <tr>\n",
       "      <th>bindex</th>\n",
       "      <th></th>\n",
       "      <th></th>\n",
       "      <th></th>\n",
       "      <th></th>\n",
       "    </tr>\n",
       "  </thead>\n",
       "  <tbody>\n",
       "    <tr>\n",
       "      <th>1.0</th>\n",
       "      <td>6</td>\n",
       "      <td>1.103441</td>\n",
       "      <td>1.207650</td>\n",
       "      <td>0.003878</td>\n",
       "    </tr>\n",
       "    <tr>\n",
       "      <th>2.0</th>\n",
       "      <td>14</td>\n",
       "      <td>1.307009</td>\n",
       "      <td>2.087522</td>\n",
       "      <td>0.009050</td>\n",
       "    </tr>\n",
       "    <tr>\n",
       "      <th>3.0</th>\n",
       "      <td>55</td>\n",
       "      <td>0.570498</td>\n",
       "      <td>0.768157</td>\n",
       "      <td>0.035553</td>\n",
       "    </tr>\n",
       "    <tr>\n",
       "      <th>4.0</th>\n",
       "      <td>89</td>\n",
       "      <td>6.898620</td>\n",
       "      <td>40.848421</td>\n",
       "      <td>0.057531</td>\n",
       "    </tr>\n",
       "    <tr>\n",
       "      <th>5.0</th>\n",
       "      <td>108</td>\n",
       "      <td>2.104664</td>\n",
       "      <td>9.440305</td>\n",
       "      <td>0.069813</td>\n",
       "    </tr>\n",
       "    <tr>\n",
       "      <th>6.0</th>\n",
       "      <td>152</td>\n",
       "      <td>0.719500</td>\n",
       "      <td>1.612042</td>\n",
       "      <td>0.098255</td>\n",
       "    </tr>\n",
       "    <tr>\n",
       "      <th>7.0</th>\n",
       "      <td>206</td>\n",
       "      <td>5.152529</td>\n",
       "      <td>44.701225</td>\n",
       "      <td>0.133161</td>\n",
       "    </tr>\n",
       "    <tr>\n",
       "      <th>8.0</th>\n",
       "      <td>228</td>\n",
       "      <td>10.158995</td>\n",
       "      <td>86.077829</td>\n",
       "      <td>0.147382</td>\n",
       "    </tr>\n",
       "    <tr>\n",
       "      <th>9.0</th>\n",
       "      <td>236</td>\n",
       "      <td>1.476631</td>\n",
       "      <td>5.805465</td>\n",
       "      <td>0.152553</td>\n",
       "    </tr>\n",
       "    <tr>\n",
       "      <th>10.0</th>\n",
       "      <td>257</td>\n",
       "      <td>2.408266</td>\n",
       "      <td>14.723936</td>\n",
       "      <td>0.166128</td>\n",
       "    </tr>\n",
       "    <tr>\n",
       "      <th>11.0</th>\n",
       "      <td>195</td>\n",
       "      <td>7.374892</td>\n",
       "      <td>75.816557</td>\n",
       "      <td>0.126050</td>\n",
       "    </tr>\n",
       "  </tbody>\n",
       "</table>\n",
       "</div>"
      ],
      "text/plain": [
       "       mu_err                       frequencies\n",
       "        count       mean        std            \n",
       "bindex                                         \n",
       "1.0         6   1.103441   1.207650    0.003878\n",
       "2.0        14   1.307009   2.087522    0.009050\n",
       "3.0        55   0.570498   0.768157    0.035553\n",
       "4.0        89   6.898620  40.848421    0.057531\n",
       "5.0       108   2.104664   9.440305    0.069813\n",
       "6.0       152   0.719500   1.612042    0.098255\n",
       "7.0       206   5.152529  44.701225    0.133161\n",
       "8.0       228  10.158995  86.077829    0.147382\n",
       "9.0       236   1.476631   5.805465    0.152553\n",
       "10.0      257   2.408266  14.723936    0.166128\n",
       "11.0      195   7.374892  75.816557    0.126050"
      ]
     },
     "execution_count": 140,
     "metadata": {},
     "output_type": "execute_result"
    }
   ],
   "source": [
    "mu_err_table= mu_err_table.ix[1:]\n",
    "mu_err_table"
   ]
  },
  {
   "cell_type": "code",
   "execution_count": 162,
   "metadata": {
    "collapsed": false
   },
   "outputs": [
    {
     "name": "stdout",
     "output_type": "stream",
     "text": [
      "bindex\n",
      "1.0      194\n",
      "2.0      452\n",
      "3.0     1778\n",
      "4.0     2877\n",
      "5.0     3491\n",
      "6.0     4913\n",
      "7.0     6658\n",
      "8.0     7369\n",
      "9.0     7628\n",
      "10.0    8306\n",
      "11.0    6303\n",
      "Name: frequencies, dtype: int32\n"
     ]
    }
   ],
   "source": [
    "NumSN= 50000\n",
    "numObjectsPerBin = np.round(mu_err_table.frequencies * NumSN).astype(np.int)\n",
    "print(numObjectsPerBin)"
   ]
  },
  {
   "cell_type": "code",
   "execution_count": 142,
   "metadata": {
    "collapsed": false
   },
   "outputs": [
    {
     "data": {
      "text/plain": [
       "194"
      ]
     },
     "execution_count": 142,
     "metadata": {},
     "output_type": "execute_result"
    }
   ],
   "source": [
    "numObjectsPerBin.ix[1]"
   ]
  },
  {
   "cell_type": "code",
   "execution_count": 143,
   "metadata": {
    "collapsed": false
   },
   "outputs": [
    {
     "data": {
      "text/plain": [
       "mean    1.103441\n",
       "std     1.207650\n",
       "Name: 1.0, dtype: float64"
      ]
     },
     "execution_count": 143,
     "metadata": {},
     "output_type": "execute_result"
    }
   ],
   "source": [
    "mu_err_table['mu_err'].ix[1, ['mean', 'std']]"
   ]
  },
  {
   "cell_type": "code",
   "execution_count": 144,
   "metadata": {
    "collapsed": false
   },
   "outputs": [],
   "source": [
    "m, s  = mu_err_table['mu_err'].ix[1, ['mean', 'std']] "
   ]
  },
  {
   "cell_type": "code",
   "execution_count": 145,
   "metadata": {
    "collapsed": false
   },
   "outputs": [
    {
     "name": "stdout",
     "output_type": "stream",
     "text": [
      "[ 2.5334237   1.3493424  -1.69873861  0.93661208  0.99768825  2.22468547\n",
      "  0.54867936  1.18915741  1.4774152   1.54948038  1.58814469  0.81223206\n",
      "  0.54985637  0.06875585  0.58313104  0.38222378  1.43616498  1.34559921\n",
      "  0.3696869   0.23511607  0.82197816  1.64402702  1.32913123  1.06764934\n",
      "  0.96426017  1.02816028 -0.10498685  2.28792507  1.26540069  0.33624556\n",
      " -0.02761993 -0.19063766  2.10273731  0.45537791 -0.81496024  1.6017042\n",
      "  0.59255976  0.11172064  0.43301718  1.45772463  2.30180312 -1.08045571\n",
      " -0.4046269   2.52969342  1.43837123  2.81494578  1.28342557  1.38159851\n",
      "  0.39667092  0.30478431  3.86966603  1.04361267 -0.58364276  1.99043019\n",
      "  1.98270918  1.46226079  0.1155377  -0.46010312  1.13311274  2.4539944\n",
      " -0.40669837  2.17729209 -0.58485982  0.16685962  1.32003441  0.88057741\n",
      "  1.29386324  0.4737815   3.20907866  0.31037256  1.17972947  0.58078931\n",
      "  1.7013402   4.14828473  1.10076075  2.13448463  1.9802178   1.17320723\n",
      "  1.32387357  1.42310522  3.59375562  2.74417223  0.18052938  0.942508\n",
      "  1.72272046  2.49126291  0.15479239  2.72312321  0.65639656  0.78905351\n",
      "  0.11451371  0.02306702  1.7188247   3.40861578 -1.0244297   0.10411213\n",
      "  1.56397645 -0.5741007   0.02296463  2.52930241  1.14697867  1.69569813\n",
      " -0.4080724   1.37642887 -0.80493095  0.47257154  0.44583831  1.61984531\n",
      "  1.45287052  2.69811269  0.68711084 -1.35691395  2.36036645  1.9708433\n",
      "  1.2160483  -0.53092332  0.51192033 -0.96064054  0.55932467  2.01074771\n",
      "  0.63234868  1.97788808  3.1157351   1.74685975  1.70662811  1.24206343\n",
      "  1.02654724 -0.05328409 -0.57810538 -0.3396421   3.01450887  2.09672787\n",
      "  2.33972293  1.2650419   2.5511988  -0.09318392  1.21695878  0.52895011\n",
      "  0.27582962  1.88815778  1.6047043  -0.67150422  1.65786758  0.67494147\n",
      "  1.46280054  1.95513494  0.40770159 -1.0714984   0.66899041  2.7275578\n",
      "  0.9059153  -0.17822747  0.99067286  0.79734838  0.71284781  0.48524701\n",
      "  2.13659903 -0.50711863  0.16585025  1.99546948  0.20037654  0.78652472\n",
      "  0.52041152  0.73564866  1.1257642   0.90136372  1.53957386  1.90968217\n",
      "  2.25760501  0.72474267  2.18310619  0.28956714  2.01053849  2.04535833\n",
      "  1.03084506  0.76297113 -0.10740381  2.68361958 -0.04009865  1.89902876\n",
      "  3.15445149 -0.93297016  1.83447992  1.85535646  1.10208692  0.96521538\n",
      "  1.43142541  0.54710899  2.70630604  1.37382276  0.71933377  2.77721944\n",
      "  2.15752599  0.68837864]\n"
     ]
    }
   ],
   "source": [
    "X = np.random.normal(m, s, size=numObjectsPerBin.ix[1] )\n",
    "print(X)"
   ]
  },
  {
   "cell_type": "code",
   "execution_count": 146,
   "metadata": {
    "collapsed": false
   },
   "outputs": [],
   "source": [
    "XVals = []\n",
    "for i in range(1,len(mu_err_table)):\n",
    "    m, s  = mu_err_table['mu_err'].ix[1, ['mean', 'std']] \n",
    "    # We will convert the numpy array to list, but that may not be necessary\n",
    "    X = np.random.normal(m, s, size=numObjectsPerBin.ix[i]).tolist()\n",
    "    XVals.append(X)"
   ]
  },
  {
   "cell_type": "code",
   "execution_count": 217,
   "metadata": {
    "collapsed": false
   },
   "outputs": [
    {
     "data": {
      "text/plain": [
       "43666"
      ]
     },
     "execution_count": 217,
     "metadata": {},
     "output_type": "execute_result"
    }
   ],
   "source": [
    "sum(map(len, XVals))"
   ]
  },
  {
   "cell_type": "code",
   "execution_count": 158,
   "metadata": {
    "collapsed": false
   },
   "outputs": [],
   "source": [
    "x=np.array(list(map(len, XVals))) \n",
    "y=np.float(sum(list(map(len, XVals))))"
   ]
  },
  {
   "cell_type": "code",
   "execution_count": 160,
   "metadata": {
    "collapsed": false
   },
   "outputs": [
    {
     "data": {
      "text/plain": [
       "array([ 0.00444282,  0.0103513 ,  0.04071818,  0.0658865 ,  0.07994779,\n",
       "        0.11251317,  0.15247561,  0.1687583 ,  0.17468969,  0.19021664])"
      ]
     },
     "execution_count": 160,
     "metadata": {},
     "output_type": "execute_result"
    }
   ],
   "source": [
    "x/y"
   ]
  },
  {
   "cell_type": "code",
   "execution_count": 191,
   "metadata": {
    "collapsed": false
   },
   "outputs": [],
   "source": [
    "z[:numObjectsPerBin.values[0]]\n",
    "for i in range(0,len(numObjectsPerBin)):\n",
    "    z[:numObjectsPerBin.values[i]]+= .1"
   ]
  },
  {
   "cell_type": "code",
   "execution_count": null,
   "metadata": {
    "collapsed": false
   },
   "outputs": [],
   "source": []
  },
  {
   "cell_type": "code",
   "execution_count": 185,
   "metadata": {
    "collapsed": false
   },
   "outputs": [
    {
     "data": {
      "text/plain": [
       "(array([ 41694.,    678.,    259.,    711.,    355.,   1390.,   1422.,\n",
       "           614.,   1099.,   1326.,    258.]),\n",
       " array([ 0. ,  0.1,  0.2,  0.3,  0.4,  0.5,  0.6,  0.7,  0.8,  0.9,  1. ,\n",
       "         1.1]),\n",
       " <a list of 11 Patch objects>)"
      ]
     },
     "execution_count": 185,
     "metadata": {},
     "output_type": "execute_result"
    },
    {
     "data": {
      "image/png": "[encoded data removed]",
      "text/plain": [
       "<matplotlib.figure.Figure at 0x1f418a3cb70>"
      ]
     },
     "metadata": {},
     "output_type": "display_data"
    }
   ],
   "source": [
    "plt.hist(z, bins=np.arange(0,1.2,.1))"
   ]
  },
  {
   "cell_type": "code",
   "execution_count": 199,
   "metadata": {
    "collapsed": true
   },
   "outputs": [],
   "source": [
    "from astropy.cosmology import Planck15"
   ]
  },
  {
   "cell_type": "code",
   "execution_count": 203,
   "metadata": {
    "collapsed": false
   },
   "outputs": [
    {
     "data": {
      "text/plain": [
       "array([ 44.54255957,  44.63146526,  44.51691485, ...,  34.85176079,\n",
       "        37.34013353,  35.35874726])"
      ]
     },
     "execution_count": 203,
     "metadata": {},
     "output_type": "execute_result"
    }
   ],
   "source": [
    "Planck15.distmod(z).value"
   ]
  },
  {
   "cell_type": "code",
   "execution_count": 213,
   "metadata": {
    "collapsed": false
   },
   "outputs": [],
   "source": [
    "mu_err_or_something=np.concatenate(XVals)"
   ]
  },
  {
   "cell_type": "code",
   "execution_count": 214,
   "metadata": {
    "collapsed": false
   },
   "outputs": [
    {
     "data": {
      "text/plain": [
       "43666"
      ]
     },
     "execution_count": 214,
     "metadata": {},
     "output_type": "execute_result"
    }
   ],
   "source": [
    "len(mu_err_or_something)"
   ]
  },
  {
   "cell_type": "code",
   "execution_count": null,
   "metadata": {
    "collapsed": true
   },
   "outputs": [],
   "source": []
  },
  {
   "cell_type": "code",
   "execution_count": null,
   "metadata": {
    "collapsed": true
   },
   "outputs": [],
   "source": []
  },
  {
   "cell_type": "code",
   "execution_count": 186,
   "metadata": {
    "collapsed": false
   },
   "outputs": [
    {
     "data": {
      "text/plain": [
       "array([  1.36700896e+00,   1.34614813e+00,   1.31632452e+00, ...,\n",
       "         8.30270479e-02,   7.58307966e-04,   3.25432115e-02])"
      ]
     },
     "execution_count": 186,
     "metadata": {},
     "output_type": "execute_result"
    }
   ],
   "source": [
    "z"
   ]
  },
  {
   "cell_type": "code",
   "execution_count": 190,
   "metadata": {
    "collapsed": false
   },
   "outputs": [
    {
     "data": {
      "text/plain": [
       "50000"
      ]
     },
     "execution_count": 190,
     "metadata": {},
     "output_type": "execute_result"
    }
   ],
   "source": [
    "z= np.random.uniform(0,.1, NumSN)\n",
    "len(z)"
   ]
  },
  {
   "cell_type": "code",
   "execution_count": 167,
   "metadata": {
    "collapsed": false
   },
   "outputs": [
    {
     "data": {
      "text/plain": [
       "(array([ 5044.,  5004.,  4883.,  5037.,  4954.,  5064.,  5058.,  4988.,\n",
       "         4977.,  4991.]),\n",
       " array([  2.70892361e-06,   1.00023040e-02,   2.00018991e-02,\n",
       "          3.00014942e-02,   4.00010893e-02,   5.00006844e-02,\n",
       "          6.00002795e-02,   6.99998745e-02,   7.99994696e-02,\n",
       "          8.99990647e-02,   9.99986598e-02]),\n",
       " <a list of 10 Patch objects>)"
      ]
     },
     "execution_count": 167,
     "metadata": {},
     "output_type": "execute_result"
    },
    {
     "data": {
      "image/png": "[encoded data removed]",
      "text/plain": [
       "<matplotlib.figure.Figure at 0x1f418a42e48>"
      ]
     },
     "metadata": {},
     "output_type": "display_data"
    }
   ],
   "source": [
    "plt.hist(z)"
   ]
  },
  {
   "cell_type": "code",
   "execution_count": null,
   "metadata": {
    "collapsed": true
   },
   "outputs": [],
   "source": []
  },
  {
   "cell_type": "code",
   "execution_count": 31,
   "metadata": {
    "collapsed": false
   },
   "outputs": [
    {
     "data": {
      "text/plain": [
       "bindex\n",
       "0.0       1\n",
       "1.0       6\n",
       "2.0      14\n",
       "3.0      55\n",
       "4.0      89\n",
       "5.0     108\n",
       "6.0     152\n",
       "7.0     206\n",
       "8.0     228\n",
       "9.0     236\n",
       "10.0    257\n",
       "11.0    195\n",
       "Name: count, dtype: int64"
      ]
     },
     "execution_count": 31,
     "metadata": {},
     "output_type": "execute_result"
    }
   ],
   "source": [
    "mu_err_table.mu_err['count']"
   ]
  },
  {
   "cell_type": "code",
   "execution_count": 32,
   "metadata": {
    "collapsed": false
   },
   "outputs": [],
   "source": [
    "def numinbins(tab,NumSN):\n",
    "    x=(tab.mu_err['count']/tab.mu_err['count'].sum())\n",
    "    return round(x*NumSN).astype(np.int)"
   ]
  },
  {
   "cell_type": "code",
   "execution_count": 33,
   "metadata": {
    "collapsed": false
   },
   "outputs": [
    {
     "data": {
      "text/plain": [
       "bindex\n",
       "0.0       1\n",
       "1.0       8\n",
       "2.0      18\n",
       "3.0      71\n",
       "4.0     115\n",
       "5.0     140\n",
       "6.0     197\n",
       "7.0     266\n",
       "8.0     295\n",
       "9.0     305\n",
       "10.0    332\n",
       "11.0    252\n",
       "Name: count, dtype: int32"
      ]
     },
     "execution_count": 33,
     "metadata": {},
     "output_type": "execute_result"
    }
   ],
   "source": [
    "numinbins(mu_err_table,2000)"
   ]
  },
  {
   "cell_type": "code",
   "execution_count": 34,
   "metadata": {
    "collapsed": false
   },
   "outputs": [
    {
     "data": {
      "text/plain": [
       "array([          nan,    1.7257748 ,    1.8562955 ,    1.17330455,\n",
       "        -23.74221733,   -1.5677139 ,    1.19254091,  -54.84906901,\n",
       "         -8.34174425,    0.85861875,  -10.34986013, -139.01322727])"
      ]
     },
     "execution_count": 34,
     "metadata": {},
     "output_type": "execute_result"
    }
   ],
   "source": []
  },
  {
   "cell_type": "code",
   "execution_count": null,
   "metadata": {
    "collapsed": false
   },
   "outputs": [],
   "source": [
    "help (np.random.normal)"
   ]
  },
  {
   "cell_type": "code",
   "execution_count": null,
   "metadata": {
    "collapsed": false
   },
   "outputs": [],
   "source": [
    "help (np.histogram)"
   ]
  },
  {
   "cell_type": "code",
   "execution_count": null,
   "metadata": {
    "collapsed": false
   },
   "outputs": [],
   "source": [
    "hist, edges= np.histogram(z, bins=10)"
   ]
  },
  {
   "cell_type": "code",
   "execution_count": null,
   "metadata": {
    "collapsed": false
   },
   "outputs": [],
   "source": [
    "edges"
   ]
  },
  {
   "cell_type": "code",
   "execution_count": null,
   "metadata": {
    "collapsed": false
   },
   "outputs": [],
   "source": [
    "hist"
   ]
  },
  {
   "cell_type": "code",
   "execution_count": null,
   "metadata": {
    "collapsed": false
   },
   "outputs": [],
   "source": [
    "print (len(edges))\n",
    "print (len(hist))"
   ]
  },
  {
   "cell_type": "code",
   "execution_count": null,
   "metadata": {
    "collapsed": false
   },
   "outputs": [],
   "source": [
    "binz=[]\n",
    "for i in range(0,10):\n",
    "    stuff = edges[i]+edges[i+1]\n",
    "    point = stuff/2\n",
    "    binz.append (point)\n",
    "print (binz)"
   ]
  },
  {
   "cell_type": "code",
   "execution_count": null,
   "metadata": {
    "collapsed": false
   },
   "outputs": [],
   "source": [
    "plt.plot(binz,hist)"
   ]
  },
  {
   "cell_type": "code",
   "execution_count": null,
   "metadata": {
    "collapsed": false
   },
   "outputs": [],
   "source": [
    "help (np.random.choice)"
   ]
  },
  {
   "cell_type": "code",
   "execution_count": null,
   "metadata": {
    "collapsed": false
   },
   "outputs": [],
   "source": [
    "wut=[]\n",
    "for i in range(0,10):\n",
    "    k = hist[i]/hist.sum()\n",
    "    wut.append (k)\n",
    "print (wut)\n"
   ]
  },
  {
   "cell_type": "code",
   "execution_count": null,
   "metadata": {
    "collapsed": false
   },
   "outputs": [],
   "source": [
    "print(len(binz))\n",
    "print(len(wut))"
   ]
  },
  {
   "cell_type": "code",
   "execution_count": null,
   "metadata": {
    "collapsed": false
   },
   "outputs": [],
   "source": [
    "supernovastuff = np.random.choice(binz,100,p=wut)\n",
    "print (supernovastuff)"
   ]
  },
  {
   "cell_type": "code",
   "execution_count": null,
   "metadata": {
    "collapsed": true
   },
   "outputs": [],
   "source": [
    " hist, edges= np.histogram(supernovastuff, bins=10)"
   ]
  },
  {
   "cell_type": "code",
   "execution_count": null,
   "metadata": {
    "collapsed": false
   },
   "outputs": [],
   "source": [
    "binzz=[]\n",
    "for i in range(0,10):\n",
    "    stufff = edges[i]+edges[i+1]\n",
    "    pointt = stufff/2\n",
    "    binzz.append (pointt)\n",
    "print (binzz)"
   ]
  },
  {
   "cell_type": "code",
   "execution_count": null,
   "metadata": {
    "collapsed": false
   },
   "outputs": [],
   "source": [
    "plt.plot(binzz,hist)"
   ]
  },
  {
   "cell_type": "code",
   "execution_count": null,
   "metadata": {
    "collapsed": false
   },
   "outputs": [],
   "source": [
    "supernovastuff = np.random.choice(binz,100,p=wut)\n",
    "print (supernovastuff)\n",
    "hist, edges= np.histogram(supernovastuff, bins=10)\n",
    "binzz=[]\n",
    "for i in range(0,10):\n",
    "    stufff = edges[i]+edges[i+1]\n",
    "    pointt = stufff/2\n",
    "    binzz.append (pointt)\n",
    "plt.plot(binzz,hist)"
   ]
  },
  {
   "cell_type": "code",
   "execution_count": null,
   "metadata": {
    "collapsed": false
   },
   "outputs": [],
   "source": []
  },
  {
   "cell_type": "code",
   "execution_count": null,
   "metadata": {
    "collapsed": false
   },
   "outputs": [],
   "source": []
  },
  {
   "cell_type": "code",
   "execution_count": null,
   "metadata": {
    "collapsed": false
   },
   "outputs": [],
   "source": []
  },
  {
   "cell_type": "code",
   "execution_count": null,
   "metadata": {
    "collapsed": false
   },
   "outputs": [],
   "source": []
  },
  {
   "cell_type": "code",
   "execution_count": null,
   "metadata": {
    "collapsed": false
   },
   "outputs": [],
   "source": []
  },
  {
   "cell_type": "code",
   "execution_count": null,
   "metadata": {
    "collapsed": false
   },
   "outputs": [],
   "source": []
  },
  {
   "cell_type": "code",
   "execution_count": null,
   "metadata": {
    "collapsed": false
   },
   "outputs": [],
   "source": []
  },
  {
   "cell_type": "code",
   "execution_count": null,
   "metadata": {
    "collapsed": false
   },
   "outputs": [],
   "source": []
  },
  {
   "cell_type": "code",
   "execution_count": null,
   "metadata": {
    "collapsed": true
   },
   "outputs": [],
   "source": []
  }
 ],
 "metadata": {
  "anaconda-cloud": {},
  "kernelspec": {
   "display_name": "Python [default]",
   "language": "python",
   "name": "python3"
  },
  "language_info": {
   "codemirror_mode": {
    "name": "ipython",
    "version": 3
   },
   "file_extension": ".py",
   "mimetype": "text/x-python",
   "name": "python",
   "nbconvert_exporter": "python",
   "pygments_lexer": "ipython3",
   "version": "3.5.2"
  }
 },
 "nbformat": 4,
 "nbformat_minor": 1
}
