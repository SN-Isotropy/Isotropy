{
 "cells": [
  {
   "cell_type": "code",
   "execution_count": 1,
   "metadata": {
    "collapsed": false
   },
   "outputs": [],
   "source": [
    "import numpy as np\n",
    "%matplotlib inline\n",
    "import matplotlib.pyplot as plt\n",
    "from collections import OrderedDict as odict\n",
    "import pandas as pd"
   ]
  },
  {
   "cell_type": "markdown",
   "metadata": {},
   "source": [
    "Load the SN light curve fits that were generated in [this notebook](https://github.com/djreiss/AnalyzeSN/blob/master/notebooks/LC%20fitting%202.ipynb).\n",
    "\n",
    "This is an array of \"SN fit\" objects. An example is printed at the end of this cell:"
   ]
  },
  {
   "cell_type": "code",
   "execution_count": 2,
   "metadata": {
    "collapsed": false
   },
   "outputs": [
    {
     "name": "stdout",
     "output_type": "stream",
     "text": [
      "1622\n",
      "1549\n"
     ]
    },
    {
     "data": {
      "text/plain": [
       "z                                                       0.870895\n",
       "t0                                                       51536.4\n",
       "x0                                                        242194\n",
       "x1                                                        112109\n",
       "c                                                       -2.75795\n",
       "hostebv                                                        0\n",
       "hostr_v                                                      3.1\n",
       "mwebv                                                          0\n",
       "mwr_v                                                        3.1\n",
       "mu                                                       15690.4\n",
       "mu_var                                                   6.20631\n",
       "inputParams    {'t0': 51389.9, 'x0': 2.52675e-06, 'x1': -0.31...\n",
       "dtype: object"
      ]
     },
     "execution_count": 2,
     "metadata": {},
     "output_type": "execute_result"
    }
   ],
   "source": [
    "import sys\n",
    "import gzip, pickle\n",
    "\n",
    "if sys.version.startswith('2'):\n",
    "    snFits = pickle.load(gzip.GzipFile('snFits.p.gz'))\n",
    "else:\n",
    "    snFits = pickle.load(gzip.GzipFile('snFits.p.gz'),\n",
    "                     encoding='latin1')\n",
    "print(len(snFits))\n",
    "snf = [s for s in snFits.values() if s is not None]\n",
    "print(len(snf))\n",
    "snf[0]"
   ]
  },
  {
   "cell_type": "markdown",
   "metadata": {},
   "source": [
    "Use list comprehension to extract the redshift (`z`) and fitted distance modulus (`mu`) from each of the supernova light curve fits. Each of those becomes its own array of numbers.\n",
    "\n",
    "Also extract `mu_var`. Need to do this in a loop since for some light curve fits `mu_var` doesn't exist (for a reason that I am not sure of right now)."
   ]
  },
  {
   "cell_type": "code",
   "execution_count": 3,
   "metadata": {
    "collapsed": false
   },
   "outputs": [],
   "source": [
    "z = np.array([s.z for s in snf])\n",
    "mu = np.array([s.mu for s in snf])\n",
    "\n",
    "mu_var = mu.copy() #np.array([s.mu_var for s in snf])\n",
    "for i,s in enumerate(snf):\n",
    "    try:\n",
    "        mu_var[i] = s.mu_var\n",
    "    except:\n",
    "        mu_var[i] = 999\n",
    "\n",
    "# Here, we didn't fit z so zz and z will be identical.\n",
    "zz = z.copy() #np.array([s['inputParams'].get('z') for s in snf]) \n",
    "for i,s in enumerate(snf):\n",
    "    try:\n",
    "        zz[i] = s['inputParams'].get('z')\n",
    "    except:\n",
    "        zz[i] = 999"
   ]
  },
  {
   "cell_type": "markdown",
   "metadata": {},
   "source": [
    "Filter the data to remove points that are probably way wrong (e.g. too high or too low `mu`).\n",
    "\n",
    "TODO: we need to look at some of these bad points and understand why their fits gave incorrect results."
   ]
  },
  {
   "cell_type": "code",
   "execution_count": 4,
   "metadata": {
    "collapsed": false
   },
   "outputs": [
    {
     "name": "stderr",
     "output_type": "stream",
     "text": [
      "/Users/meramanjar/anaconda/lib/python3.5/site-packages/ipykernel/__main__.py:4: VisibleDeprecationWarning: boolean index did not match indexed array along dimension 0; dimension is 1549 but corresponding boolean dimension is 1439\n"
     ]
    }
   ],
   "source": [
    "z = z[(mu > 0) & (mu < 19)]\n",
    "zz = zz[(mu > 0) & (mu < 19)]\n",
    "mu = mu[(mu > 0) & (mu < 19)]\n",
    "mu_var = mu_var[(mu > 0) & (mu < 19)]"
   ]
  },
  {
   "cell_type": "markdown",
   "metadata": {},
   "source": [
    "Plot the Hubble diagram."
   ]
  },
  {
   "cell_type": "code",
   "execution_count": 5,
   "metadata": {
    "collapsed": false
   },
   "outputs": [
    {
     "data": {
      "image/png": "[encoded data removed]",
      "text/plain": [
       "<matplotlib.figure.Figure at 0x114393898>"
      ]
     },
     "metadata": {},
     "output_type": "display_data"
    }
   ],
   "source": [
    "#plt.scatter(z, mu)\n",
    "plt.errorbar(z, mu, yerr=np.sqrt(mu_var), fmt='o', ecolor='r', elinewidth=1, ms=2)\n",
    "plt.xlabel('z')\n",
    "plt.xscale('log')\n",
    "plt.ylabel('mu + const')\n",
    "plt.xlim((0.2,1.4))\n",
    "plt.ylim((8,18));"
   ]
  },
  {
   "cell_type": "markdown",
   "metadata": {},
   "source": [
    "The `mu`s computed above are offset by some constant that we do not know yet. Let's estimate that offset by computing a Hubble diagram for a model cosmology."
   ]
  },
  {
   "cell_type": "code",
   "execution_count": 6,
   "metadata": {
    "collapsed": false
   },
   "outputs": [],
   "source": [
    "from astropy.cosmology import Planck15 as cosmo\n",
    "mu = np.array([s.mu for s in snf])\n",
    "x0 = np.array([s.x0 for s in snf])\n",
    "x0 = x0[(mu > 0) & (mu < 19)]\n",
    "x1 = np.array([s.x1 for s in snf])\n",
    "x1 = x1[(mu > 0) & (mu < 19)]\n",
    "c = np.array([s.c for s in snf])\n",
    "c = c[(mu > 0) & (mu < 19)]\n",
    "mu = mu[(mu > 0) & (mu < 19)]\n",
    "muz = np.array(cosmo.distmod(z))\n",
    "\n",
    "alpha = 0.14\n",
    "beta = -3.11\n",
    "M = -2.5 * np.log10(x0) + alpha * x1 + beta * c - muz\n",
    "# plt.scatter(z, muz)\n",
    "# plt.xlabel('z')\n",
    "# plt.xscale('log')\n",
    "# plt.xlim((0.2,1.4))\n",
    "# plt.ylabel('mu')\n",
    "# plt.ylim((39,45));"
   ]
  },
  {
   "cell_type": "markdown",
   "metadata": {},
   "source": [
    "Compute the constant offset as the median of the differences between the cosmological `mu` and the fitted SN `mu`."
   ]
  },
  {
   "cell_type": "code",
   "execution_count": 7,
   "metadata": {
    "collapsed": false
   },
   "outputs": [
    {
     "name": "stdout",
     "output_type": "stream",
     "text": [
      "29.7558162588\n"
     ]
    },
    {
     "data": {
      "text/plain": [
       "[<matplotlib.lines.Line2D at 0x10bc57b38>]"
      ]
     },
     "execution_count": 7,
     "metadata": {},
     "output_type": "execute_result"
    },
    {
     "data": {
      "image/png": "[encoded data removed]",
      "text/plain": [
       "<matplotlib.figure.Figure at 0x1143adf60>"
      ]
     },
     "metadata": {},
     "output_type": "display_data"
    }
   ],
   "source": [
    "const = np.median(muz-mu)\n",
    "print(const)\n",
    "plt.scatter(z,muz-mu)\n",
    "plt.plot([0,1.4],[const,const],'r')"
   ]
  },
  {
   "cell_type": "code",
   "execution_count": 8,
   "metadata": {
    "collapsed": false
   },
   "outputs": [
    {
     "data": {
      "image/png": "[encoded data removed]",
      "text/plain": [
       "<matplotlib.figure.Figure at 0x11971a5f8>"
      ]
     },
     "metadata": {},
     "output_type": "display_data"
    }
   ],
   "source": [
    "plt.errorbar(z, mu+const, yerr=np.sqrt(mu_var), fmt='o', ecolor='r', elinewidth=1, ms=2)\n",
    "plt.xlabel('z')\n",
    "plt.xscale('log')\n",
    "plt.ylabel('mu + const')\n",
    "plt.xlim((0.2,1.4))\n",
    "plt.xticks(np.arange(0.2,1.4,0.2))\n",
    "plt.ylim((39,48));"
   ]
  },
  {
   "cell_type": "code",
   "execution_count": 9,
   "metadata": {
    "collapsed": false
   },
   "outputs": [
    {
     "name": "stdout",
     "output_type": "stream",
     "text": [
      "Help on function histogram in module numpy.lib.function_base:\n",
      "\n",
      "histogram(a, bins=10, range=None, normed=False, weights=None, density=None)\n",
      "    Compute the histogram of a set of data.\n",
      "    \n",
      "    Parameters\n",
      "    ----------\n",
      "    a : array_like\n",
      "        Input data. The histogram is computed over the flattened array.\n",
      "    bins : int or sequence of scalars or str, optional\n",
      "        If `bins` is an int, it defines the number of equal-width\n",
      "        bins in the given range (10, by default). If `bins` is a\n",
      "        sequence, it defines the bin edges, including the rightmost\n",
      "        edge, allowing for non-uniform bin widths.\n",
      "    \n",
      "        .. versionadded:: 1.11.0\n",
      "    \n",
      "        If `bins` is a string from the list below, `histogram` will use\n",
      "        the method chosen to calculate the optimal bin width and\n",
      "        consequently the number of bins (see `Notes` for more detail on\n",
      "        the estimators) from the data that falls within the requested\n",
      "        range. While the bin width will be optimal for the actual data\n",
      "        in the range, the number of bins will be computed to fill the\n",
      "        entire range, including the empty portions. For visualisation,\n",
      "        using the 'auto' option is suggested. Weighted data is not\n",
      "        supported for automated bin size selection.\n",
      "    \n",
      "        'auto'\n",
      "            Maximum of the 'sturges' and 'fd' estimators. Provides good\n",
      "            all round performance\n",
      "    \n",
      "        'fd' (Freedman Diaconis Estimator)\n",
      "            Robust (resilient to outliers) estimator that takes into\n",
      "            account data variability and data size .\n",
      "    \n",
      "        'doane'\n",
      "            An improved version of Sturges' estimator that works better\n",
      "            with non-normal datasets.\n",
      "    \n",
      "        'scott'\n",
      "            Less robust estimator that that takes into account data\n",
      "            variability and data size.\n",
      "    \n",
      "        'rice'\n",
      "            Estimator does not take variability into account, only data\n",
      "            size. Commonly overestimates number of bins required.\n",
      "    \n",
      "        'sturges'\n",
      "            R's default method, only accounts for data size. Only\n",
      "            optimal for gaussian data and underestimates number of bins\n",
      "            for large non-gaussian datasets.\n",
      "    \n",
      "        'sqrt'\n",
      "            Square root (of data size) estimator, used by Excel and\n",
      "            other programs for its speed and simplicity.\n",
      "    \n",
      "    range : (float, float), optional\n",
      "        The lower and upper range of the bins.  If not provided, range\n",
      "        is simply ``(a.min(), a.max())``.  Values outside the range are\n",
      "        ignored. The first element of the range must be less than or\n",
      "        equal to the second. `range` affects the automatic bin\n",
      "        computation as well. While bin width is computed to be optimal\n",
      "        based on the actual data within `range`, the bin count will fill\n",
      "        the entire range including portions containing no data.\n",
      "    normed : bool, optional\n",
      "        This keyword is deprecated in Numpy 1.6 due to confusing/buggy\n",
      "        behavior. It will be removed in Numpy 2.0. Use the ``density``\n",
      "        keyword instead. If ``False``, the result will contain the\n",
      "        number of samples in each bin. If ``True``, the result is the\n",
      "        value of the probability *density* function at the bin,\n",
      "        normalized such that the *integral* over the range is 1. Note\n",
      "        that this latter behavior is known to be buggy with unequal bin\n",
      "        widths; use ``density`` instead.\n",
      "    weights : array_like, optional\n",
      "        An array of weights, of the same shape as `a`.  Each value in\n",
      "        `a` only contributes its associated weight towards the bin count\n",
      "        (instead of 1). If `density` is True, the weights are\n",
      "        normalized, so that the integral of the density over the range\n",
      "        remains 1.\n",
      "    density : bool, optional\n",
      "        If ``False``, the result will contain the number of samples in\n",
      "        each bin. If ``True``, the result is the value of the\n",
      "        probability *density* function at the bin, normalized such that\n",
      "        the *integral* over the range is 1. Note that the sum of the\n",
      "        histogram values will not be equal to 1 unless bins of unity\n",
      "        width are chosen; it is not a probability *mass* function.\n",
      "    \n",
      "        Overrides the ``normed`` keyword if given.\n",
      "    \n",
      "    Returns\n",
      "    -------\n",
      "    hist : array\n",
      "        The values of the histogram. See `density` and `weights` for a\n",
      "        description of the possible semantics.\n",
      "    bin_edges : array of dtype float\n",
      "        Return the bin edges ``(length(hist)+1)``.\n",
      "    \n",
      "    \n",
      "    See Also\n",
      "    --------\n",
      "    histogramdd, bincount, searchsorted, digitize\n",
      "    \n",
      "    Notes\n",
      "    -----\n",
      "    All but the last (righthand-most) bin is half-open.  In other words,\n",
      "    if `bins` is::\n",
      "    \n",
      "      [1, 2, 3, 4]\n",
      "    \n",
      "    then the first bin is ``[1, 2)`` (including 1, but excluding 2) and\n",
      "    the second ``[2, 3)``.  The last bin, however, is ``[3, 4]``, which\n",
      "    *includes* 4.\n",
      "    \n",
      "    .. versionadded:: 1.11.0\n",
      "    \n",
      "    The methods to estimate the optimal number of bins are well founded\n",
      "    in literature, and are inspired by the choices R provides for\n",
      "    histogram visualisation. Note that having the number of bins\n",
      "    proportional to :math:`n^{1/3}` is asymptotically optimal, which is\n",
      "    why it appears in most estimators. These are simply plug-in methods\n",
      "    that give good starting points for number of bins. In the equations\n",
      "    below, :math:`h` is the binwidth and :math:`n_h` is the number of\n",
      "    bins. All estimators that compute bin counts are recast to bin width\n",
      "    using the `ptp` of the data. The final bin count is obtained from\n",
      "    ``np.round(np.ceil(range / h))`.\n",
      "    \n",
      "    'Auto' (maximum of the 'Sturges' and 'FD' estimators)\n",
      "        A compromise to get a good value. For small datasets the Sturges\n",
      "        value will usually be chosen, while larger datasets will usually\n",
      "        default to FD.  Avoids the overly conservative behaviour of FD\n",
      "        and Sturges for small and large datasets respectively.\n",
      "        Switchover point is usually :math:`a.size \\approx 1000`.\n",
      "    \n",
      "    'FD' (Freedman Diaconis Estimator)\n",
      "        .. math:: h = 2 \\frac{IQR}{n^{1/3}}\n",
      "    \n",
      "        The binwidth is proportional to the interquartile range (IQR)\n",
      "        and inversely proportional to cube root of a.size. Can be too\n",
      "        conservative for small datasets, but is quite good for large\n",
      "        datasets. The IQR is very robust to outliers.\n",
      "    \n",
      "    'Scott'\n",
      "        .. math:: h = \\sigma \\sqrt[3]{\\frac{24 * \\sqrt{\\pi}}{n}}\n",
      "    \n",
      "        The binwidth is proportional to the standard deviation of the\n",
      "        data and inversely proportional to cube root of ``x.size``. Can\n",
      "        be too conservative for small datasets, but is quite good for\n",
      "        large datasets. The standard deviation is not very robust to\n",
      "        outliers. Values are very similar to the Freedman-Diaconis\n",
      "        estimator in the absence of outliers.\n",
      "    \n",
      "    'Rice'\n",
      "        .. math:: n_h = 2n^{1/3}\n",
      "    \n",
      "        The number of bins is only proportional to cube root of\n",
      "        ``a.size``. It tends to overestimate the number of bins and it\n",
      "        does not take into account data variability.\n",
      "    \n",
      "    'Sturges'\n",
      "        .. math:: n_h = \\log _{2}n+1\n",
      "    \n",
      "        The number of bins is the base 2 log of ``a.size``.  This\n",
      "        estimator assumes normality of data and is too conservative for\n",
      "        larger, non-normal datasets. This is the default method in R's\n",
      "        ``hist`` method.\n",
      "    \n",
      "    'Doane'\n",
      "        .. math:: n_h = 1 + \\log_{2}(n) +\n",
      "                        \\log_{2}(1 + \\frac{|g_1|}{\\sigma_{g_1})}\n",
      "    \n",
      "            g_1 = mean[(\\frac{x - \\mu}{\\sigma})^3]\n",
      "    \n",
      "            \\sigma_{g_1} = \\sqrt{\\frac{6(n - 2)}{(n + 1)(n + 3)}}\n",
      "    \n",
      "        An improved version of Sturges' formula that produces better\n",
      "        estimates for non-normal datasets. This estimator attempts to\n",
      "        account for the skew of the data.\n",
      "    \n",
      "    'Sqrt'\n",
      "        .. math:: n_h = \\sqrt n\n",
      "        The simplest and fastest estimator. Only takes into account the\n",
      "        data size.\n",
      "    \n",
      "    Examples\n",
      "    --------\n",
      "    >>> np.histogram([1, 2, 1], bins=[0, 1, 2, 3])\n",
      "    (array([0, 2, 1]), array([0, 1, 2, 3]))\n",
      "    >>> np.histogram(np.arange(4), bins=np.arange(5), density=True)\n",
      "    (array([ 0.25,  0.25,  0.25,  0.25]), array([0, 1, 2, 3, 4]))\n",
      "    >>> np.histogram([[1, 2, 1], [1, 0, 1]], bins=[0,1,2,3])\n",
      "    (array([1, 4, 1]), array([0, 1, 2, 3]))\n",
      "    \n",
      "    >>> a = np.arange(5)\n",
      "    >>> hist, bin_edges = np.histogram(a, density=True)\n",
      "    >>> hist\n",
      "    array([ 0.5,  0. ,  0.5,  0. ,  0. ,  0.5,  0. ,  0.5,  0. ,  0.5])\n",
      "    >>> hist.sum()\n",
      "    2.4999999999999996\n",
      "    >>> np.sum(hist*np.diff(bin_edges))\n",
      "    1.0\n",
      "    \n",
      "    .. versionadded:: 1.11.0\n",
      "    \n",
      "    Automated Bin Selection Methods example, using 2 peak random data\n",
      "    with 2000 points:\n",
      "    \n",
      "    >>> import matplotlib.pyplot as plt\n",
      "    >>> rng = np.random.RandomState(10)  # deterministic random data\n",
      "    >>> a = np.hstack((rng.normal(size=1000),\n",
      "    ...                rng.normal(loc=5, scale=2, size=1000)))\n",
      "    >>> plt.hist(a, bins='auto')  # plt.hist passes it's arguments to np.histogram\n",
      "    >>> plt.title(\"Histogram with 'auto' bins\")\n",
      "    >>> plt.show()\n",
      "\n"
     ]
    }
   ],
   "source": [
    "\n",
    "help (np.histogram)"
   ]
  },
  {
   "cell_type": "code",
   "execution_count": 10,
   "metadata": {
    "collapsed": false
   },
   "outputs": [],
   "source": [
    "hist , edges = np.histogram(z, bins =10)"
   ]
  },
  {
   "cell_type": "code",
   "execution_count": 11,
   "metadata": {
    "collapsed": false
   },
   "outputs": [
    {
     "data": {
      "text/plain": [
       "array([ 0.0965254 ,  0.20671712,  0.31690884,  0.42710055,  0.53729227,\n",
       "        0.64748399,  0.75767571,  0.86786743,  0.97805914,  1.08825086,\n",
       "        1.19844258])"
      ]
     },
     "execution_count": 11,
     "metadata": {},
     "output_type": "execute_result"
    }
   ],
   "source": [
    "edges"
   ]
  },
  {
   "cell_type": "code",
   "execution_count": 12,
   "metadata": {
    "collapsed": false
   },
   "outputs": [
    {
     "data": {
      "text/plain": [
       "array([  7,  18,  64,  96, 119, 191, 229, 245, 266, 204])"
      ]
     },
     "execution_count": 12,
     "metadata": {},
     "output_type": "execute_result"
    }
   ],
   "source": [
    "hist"
   ]
  },
  {
   "cell_type": "code",
   "execution_count": 13,
   "metadata": {
    "collapsed": false
   },
   "outputs": [
    {
     "name": "stdout",
     "output_type": "stream",
     "text": [
      "11\n",
      "10\n"
     ]
    }
   ],
   "source": [
    "print(len (edges))\n",
    "print(len (hist))"
   ]
  },
  {
   "cell_type": "code",
   "execution_count": 14,
   "metadata": {
    "collapsed": false
   },
   "outputs": [
    {
     "name": "stdout",
     "output_type": "stream",
     "text": [
      "[0.1516212597489357, 0.2618129774928093, 0.37200469523668289, 0.48219641298055649, 0.59238813072443008, 0.70257984846830368, 0.81277156621217728, 0.92296328395605087, 1.0331550016999245, 1.1433467194437981]\n"
     ]
    }
   ],
   "source": [
    "mid_pts =[]\n",
    "for ii in range(len(edges)-1):\n",
    "    mid_pts.append(0.5*(edges[ii]+edges[ii+1]))\n",
    "print(mid_pts)\n",
    "    "
   ]
  },
  {
   "cell_type": "code",
   "execution_count": null,
   "metadata": {
    "collapsed": true
   },
   "outputs": [],
   "source": []
  },
  {
   "cell_type": "code",
   "execution_count": 15,
   "metadata": {
    "collapsed": false
   },
   "outputs": [
    {
     "data": {
      "text/plain": [
       "[<matplotlib.lines.Line2D at 0x11a1a1cc0>]"
      ]
     },
     "execution_count": 15,
     "metadata": {},
     "output_type": "execute_result"
    },
    {
     "data": {
      "image/png": "[encoded data removed]",
      "text/plain": [
       "<matplotlib.figure.Figure at 0x11a033780>"
      ]
     },
     "metadata": {},
     "output_type": "display_data"
    }
   ],
   "source": [
    "\n",
    "plt.plot (mid_pts, hist)"
   ]
  },
  {
   "cell_type": "code",
   "execution_count": 16,
   "metadata": {
    "collapsed": false
   },
   "outputs": [
    {
     "name": "stdout",
     "output_type": "stream",
     "text": [
      "Help on built-in function choice:\n",
      "\n",
      "choice(...) method of mtrand.RandomState instance\n",
      "    choice(a, size=None, replace=True, p=None)\n",
      "    \n",
      "    Generates a random sample from a given 1-D array\n",
      "    \n",
      "            .. versionadded:: 1.7.0\n",
      "    \n",
      "    Parameters\n",
      "    -----------\n",
      "    a : 1-D array-like or int\n",
      "        If an ndarray, a random sample is generated from its elements.\n",
      "        If an int, the random sample is generated as if a was np.arange(n)\n",
      "    size : int or tuple of ints, optional\n",
      "        Output shape.  If the given shape is, e.g., ``(m, n, k)``, then\n",
      "        ``m * n * k`` samples are drawn.  Default is None, in which case a\n",
      "        single value is returned.\n",
      "    replace : boolean, optional\n",
      "        Whether the sample is with or without replacement\n",
      "    p : 1-D array-like, optional\n",
      "        The probabilities associated with each entry in a.\n",
      "        If not given the sample assumes a uniform distribution over all\n",
      "        entries in a.\n",
      "    \n",
      "    Returns\n",
      "    --------\n",
      "    samples : 1-D ndarray, shape (size,)\n",
      "        The generated random samples\n",
      "    \n",
      "    Raises\n",
      "    -------\n",
      "    ValueError\n",
      "        If a is an int and less than zero, if a or p are not 1-dimensional,\n",
      "        if a is an array-like of size 0, if p is not a vector of\n",
      "        probabilities, if a and p have different lengths, or if\n",
      "        replace=False and the sample size is greater than the population\n",
      "        size\n",
      "    \n",
      "    See Also\n",
      "    ---------\n",
      "    randint, shuffle, permutation\n",
      "    \n",
      "    Examples\n",
      "    ---------\n",
      "    Generate a uniform random sample from np.arange(5) of size 3:\n",
      "    \n",
      "    >>> np.random.choice(5, 3)\n",
      "    array([0, 3, 4])\n",
      "    >>> #This is equivalent to np.random.randint(0,5,3)\n",
      "    \n",
      "    Generate a non-uniform random sample from np.arange(5) of size 3:\n",
      "    \n",
      "    >>> np.random.choice(5, 3, p=[0.1, 0, 0.3, 0.6, 0])\n",
      "    array([3, 3, 0])\n",
      "    \n",
      "    Generate a uniform random sample from np.arange(5) of size 3 without\n",
      "    replacement:\n",
      "    \n",
      "    >>> np.random.choice(5, 3, replace=False)\n",
      "    array([3,1,0])\n",
      "    >>> #This is equivalent to np.random.permutation(np.arange(5))[:3]\n",
      "    \n",
      "    Generate a non-uniform random sample from np.arange(5) of size\n",
      "    3 without replacement:\n",
      "    \n",
      "    >>> np.random.choice(5, 3, replace=False, p=[0.1, 0, 0.3, 0.6, 0])\n",
      "    array([2, 3, 0])\n",
      "    \n",
      "    Any of the above can be repeated with an arbitrary array-like\n",
      "    instead of just integers. For instance:\n",
      "    \n",
      "    >>> aa_milne_arr = ['pooh', 'rabbit', 'piglet', 'Christopher']\n",
      "    >>> np.random.choice(aa_milne_arr, 5, p=[0.5, 0.1, 0.1, 0.3])\n",
      "    array(['pooh', 'pooh', 'pooh', 'Christopher', 'piglet'],\n",
      "          dtype='|S11')\n",
      "\n"
     ]
    }
   ],
   "source": [
    "help(np.random.choice)"
   ]
  },
  {
   "cell_type": "markdown",
   "metadata": {},
   "source": [
    "np.random.choice(binz, 1000, p= #generate a random set of supernovae and see if we an get a different set of random z values and see if we can get them to look the same) # number of supernova in the bin vs total number of supernova "
   ]
  },
  {
   "cell_type": "code",
   "execution_count": null,
   "metadata": {
    "collapsed": false
   },
   "outputs": [],
   "source": []
  },
  {
   "cell_type": "code",
   "execution_count": 17,
   "metadata": {
    "collapsed": false
   },
   "outputs": [
    {
     "data": {
      "text/plain": [
       "[<matplotlib.lines.Line2D at 0x11a56c5f8>]"
      ]
     },
     "execution_count": 17,
     "metadata": {},
     "output_type": "execute_result"
    },
    {
     "data": {
      "image/png": "[encoded data removed]",
      "text/plain": [
       "<matplotlib.figure.Figure at 0x11a178b00>"
      ]
     },
     "metadata": {},
     "output_type": "display_data"
    }
   ],
   "source": [
    "plt.plot(z, np.sqrt(mu_var), 'o') "
   ]
  },
  {
   "cell_type": "code",
   "execution_count": 18,
   "metadata": {
    "collapsed": true
   },
   "outputs": [],
   "source": [
    "import pandas as pd "
   ]
  },
  {
   "cell_type": "code",
   "execution_count": 19,
   "metadata": {
    "collapsed": false
   },
   "outputs": [
    {
     "ename": "AttributeError",
     "evalue": "module 'pandas' has no attribute 'dataFrame'",
     "output_type": "error",
     "traceback": [
      "\u001b[0;31m---------------------------------------------------------------------------\u001b[0m",
      "\u001b[0;31mAttributeError\u001b[0m                            Traceback (most recent call last)",
      "\u001b[0;32m<ipython-input-19-b5667da32e5e>\u001b[0m in \u001b[0;36m<module>\u001b[0;34m()\u001b[0m\n\u001b[0;32m----> 1\u001b[0;31m df = pd.dataFrame(gzip.GzipFile('snFits.p.gz'),\n\u001b[0m\u001b[1;32m      2\u001b[0m                      encoding='latin1')\n",
      "\u001b[0;31mAttributeError\u001b[0m: module 'pandas' has no attribute 'dataFrame'"
     ]
    }
   ],
   "source": [
    "df = pd.dataFrame(gzip.GzipFile('snFits.p.gz'),\n",
    "                     encoding='latin1')"
   ]
  },
  {
   "cell_type": "code",
   "execution_count": null,
   "metadata": {
    "collapsed": false
   },
   "outputs": [],
   "source": [
    "type (snFits)"
   ]
  },
  {
   "cell_type": "code",
   "execution_count": 20,
   "metadata": {
    "collapsed": true
   },
   "outputs": [],
   "source": [
    "df = pd.DataFrame(snFits)"
   ]
  },
  {
   "cell_type": "code",
   "execution_count": 21,
   "metadata": {
    "collapsed": false
   },
   "outputs": [
    {
     "data": {
      "text/html": [
       "<div>\n",
       "<table border=\"1\" class=\"dataframe\">\n",
       "  <thead>\n",
       "    <tr style=\"text-align: right;\">\n",
       "      <th></th>\n",
       "      <th>10005</th>\n",
       "      <th>10018</th>\n",
       "      <th>10024</th>\n",
       "      <th>10034</th>\n",
       "      <th>10059</th>\n",
       "      <th>10087</th>\n",
       "      <th>10092</th>\n",
       "      <th>10135</th>\n",
       "      <th>10136</th>\n",
       "      <th>1014</th>\n",
       "      <th>...</th>\n",
       "      <th>9875</th>\n",
       "      <th>9893</th>\n",
       "      <th>9906</th>\n",
       "      <th>9919</th>\n",
       "      <th>9940</th>\n",
       "      <th>9956</th>\n",
       "      <th>9966</th>\n",
       "      <th>9996</th>\n",
       "      <th>9997</th>\n",
       "      <th>9998</th>\n",
       "    </tr>\n",
       "  </thead>\n",
       "  <tbody>\n",
       "    <tr>\n",
       "      <th>c</th>\n",
       "      <td>-0.121929</td>\n",
       "      <td>None</td>\n",
       "      <td>0.136068</td>\n",
       "      <td>0.0450403</td>\n",
       "      <td>-0.313476</td>\n",
       "      <td>0.0462698</td>\n",
       "      <td>0.0988343</td>\n",
       "      <td>-0.0298518</td>\n",
       "      <td>0.0776311</td>\n",
       "      <td>-0.00395545</td>\n",
       "      <td>...</td>\n",
       "      <td>0.151322</td>\n",
       "      <td>0.0332876</td>\n",
       "      <td>0.0601968</td>\n",
       "      <td>-0.064084</td>\n",
       "      <td>-0.0992085</td>\n",
       "      <td>0.168553</td>\n",
       "      <td>0.224081</td>\n",
       "      <td>-0.0279898</td>\n",
       "      <td>-0.0690699</td>\n",
       "      <td>0.554351</td>\n",
       "    </tr>\n",
       "    <tr>\n",
       "      <th>hostebv</th>\n",
       "      <td>0</td>\n",
       "      <td>None</td>\n",
       "      <td>0</td>\n",
       "      <td>0</td>\n",
       "      <td>0</td>\n",
       "      <td>0</td>\n",
       "      <td>0</td>\n",
       "      <td>0</td>\n",
       "      <td>0</td>\n",
       "      <td>0</td>\n",
       "      <td>...</td>\n",
       "      <td>0</td>\n",
       "      <td>0</td>\n",
       "      <td>0</td>\n",
       "      <td>0</td>\n",
       "      <td>0</td>\n",
       "      <td>0</td>\n",
       "      <td>0</td>\n",
       "      <td>0</td>\n",
       "      <td>0</td>\n",
       "      <td>0</td>\n",
       "    </tr>\n",
       "    <tr>\n",
       "      <th>hostr_v</th>\n",
       "      <td>3.1</td>\n",
       "      <td>None</td>\n",
       "      <td>3.1</td>\n",
       "      <td>3.1</td>\n",
       "      <td>3.1</td>\n",
       "      <td>3.1</td>\n",
       "      <td>3.1</td>\n",
       "      <td>3.1</td>\n",
       "      <td>3.1</td>\n",
       "      <td>3.1</td>\n",
       "      <td>...</td>\n",
       "      <td>3.1</td>\n",
       "      <td>3.1</td>\n",
       "      <td>3.1</td>\n",
       "      <td>3.1</td>\n",
       "      <td>3.1</td>\n",
       "      <td>3.1</td>\n",
       "      <td>3.1</td>\n",
       "      <td>3.1</td>\n",
       "      <td>3.1</td>\n",
       "      <td>3.1</td>\n",
       "    </tr>\n",
       "    <tr>\n",
       "      <th>inputParams</th>\n",
       "      <td>{'t0': 51366.4, 'x0': 2.33246e-06, 'x1': 0.316...</td>\n",
       "      <td>None</td>\n",
       "      <td>{'t0': 49526.4, 'x0': 1.89643e-06, 'x1': -0.00...</td>\n",
       "      <td>{'t0': 49797.0, 'x0': 3.91948e-06, 'x1': 1.333...</td>\n",
       "      <td>{'t0': 52299.5, 'x0': 7.96518e-07, 'x1': -2.15...</td>\n",
       "      <td>{'t0': 51916.5, 'x0': 1.34099e-06, 'x1': -1.35...</td>\n",
       "      <td>{'t0': 51660.8, 'x0': 2.02691e-05, 'x1': 0.810...</td>\n",
       "      <td>{'t0': 52956.2, 'x0': 1.50645e-06, 'x1': -0.17...</td>\n",
       "      <td>{'t0': 51869.1, 'x0': 2.08861e-06, 'x1': -0.03...</td>\n",
       "      <td>{'t0': 52625.4, 'x0': 1.57086e-05, 'x1': -0.05...</td>\n",
       "      <td>...</td>\n",
       "      <td>{'t0': 50537.5, 'x0': 1.49797e-06, 'x1': 0.749...</td>\n",
       "      <td>{'t0': 50317.4, 'x0': 5.31459e-06, 'x1': 0.939...</td>\n",
       "      <td>{'t0': 50247.6, 'x0': 8.27902e-06, 'x1': 1.859...</td>\n",
       "      <td>{'t0': 52795.5, 'x0': 5.27805e-06, 'x1': -0.88...</td>\n",
       "      <td>{'t0': 52282.4, 'x0': 1.59866e-05, 'x1': 0.300...</td>\n",
       "      <td>{'t0': 51434.1, 'x0': 1.5377e-06, 'x1': -2.071...</td>\n",
       "      <td>{'t0': 49728.8, 'x0': 3.29583e-06, 'x1': 1.077...</td>\n",
       "      <td>{'t0': 51182.1, 'x0': 6.8868e-06, 'x1': 1.9237...</td>\n",
       "      <td>{'t0': 51692.7, 'x0': 2.44391e-06, 'x1': -0.47...</td>\n",
       "      <td>{'t0': 52220.0, 'x0': 3.92665e-05, 'x1': -0.11...</td>\n",
       "    </tr>\n",
       "    <tr>\n",
       "      <th>mu</th>\n",
       "      <td>14.4485</td>\n",
       "      <td>None</td>\n",
       "      <td>14.6638</td>\n",
       "      <td>14.293</td>\n",
       "      <td>15.3082</td>\n",
       "      <td>14.3719</td>\n",
       "      <td>18.5476</td>\n",
       "      <td>14.7065</td>\n",
       "      <td>13.6749</td>\n",
       "      <td>11.9806</td>\n",
       "      <td>...</td>\n",
       "      <td>17.3679</td>\n",
       "      <td>13.2705</td>\n",
       "      <td>12.6044</td>\n",
       "      <td>13.1048</td>\n",
       "      <td>12.4316</td>\n",
       "      <td>13.7975</td>\n",
       "      <td>13.3523</td>\n",
       "      <td>13.3476</td>\n",
       "      <td>14.0323</td>\n",
       "      <td>2.41581</td>\n",
       "    </tr>\n",
       "  </tbody>\n",
       "</table>\n",
       "<p>5 rows × 1622 columns</p>\n",
       "</div>"
      ],
      "text/plain": [
       "                                                         10005 10018  \\\n",
       "c                                                    -0.121929  None   \n",
       "hostebv                                                      0  None   \n",
       "hostr_v                                                    3.1  None   \n",
       "inputParams  {'t0': 51366.4, 'x0': 2.33246e-06, 'x1': 0.316...  None   \n",
       "mu                                                     14.4485  None   \n",
       "\n",
       "                                                         10024  \\\n",
       "c                                                     0.136068   \n",
       "hostebv                                                      0   \n",
       "hostr_v                                                    3.1   \n",
       "inputParams  {'t0': 49526.4, 'x0': 1.89643e-06, 'x1': -0.00...   \n",
       "mu                                                     14.6638   \n",
       "\n",
       "                                                         10034  \\\n",
       "c                                                    0.0450403   \n",
       "hostebv                                                      0   \n",
       "hostr_v                                                    3.1   \n",
       "inputParams  {'t0': 49797.0, 'x0': 3.91948e-06, 'x1': 1.333...   \n",
       "mu                                                      14.293   \n",
       "\n",
       "                                                         10059  \\\n",
       "c                                                    -0.313476   \n",
       "hostebv                                                      0   \n",
       "hostr_v                                                    3.1   \n",
       "inputParams  {'t0': 52299.5, 'x0': 7.96518e-07, 'x1': -2.15...   \n",
       "mu                                                     15.3082   \n",
       "\n",
       "                                                         10087  \\\n",
       "c                                                    0.0462698   \n",
       "hostebv                                                      0   \n",
       "hostr_v                                                    3.1   \n",
       "inputParams  {'t0': 51916.5, 'x0': 1.34099e-06, 'x1': -1.35...   \n",
       "mu                                                     14.3719   \n",
       "\n",
       "                                                         10092  \\\n",
       "c                                                    0.0988343   \n",
       "hostebv                                                      0   \n",
       "hostr_v                                                    3.1   \n",
       "inputParams  {'t0': 51660.8, 'x0': 2.02691e-05, 'x1': 0.810...   \n",
       "mu                                                     18.5476   \n",
       "\n",
       "                                                         10135  \\\n",
       "c                                                   -0.0298518   \n",
       "hostebv                                                      0   \n",
       "hostr_v                                                    3.1   \n",
       "inputParams  {'t0': 52956.2, 'x0': 1.50645e-06, 'x1': -0.17...   \n",
       "mu                                                     14.7065   \n",
       "\n",
       "                                                         10136  \\\n",
       "c                                                    0.0776311   \n",
       "hostebv                                                      0   \n",
       "hostr_v                                                    3.1   \n",
       "inputParams  {'t0': 51869.1, 'x0': 2.08861e-06, 'x1': -0.03...   \n",
       "mu                                                     13.6749   \n",
       "\n",
       "                                                          1014  \\\n",
       "c                                                  -0.00395545   \n",
       "hostebv                                                      0   \n",
       "hostr_v                                                    3.1   \n",
       "inputParams  {'t0': 52625.4, 'x0': 1.57086e-05, 'x1': -0.05...   \n",
       "mu                                                     11.9806   \n",
       "\n",
       "                                   ...                          \\\n",
       "c                                  ...                           \n",
       "hostebv                            ...                           \n",
       "hostr_v                            ...                           \n",
       "inputParams                        ...                           \n",
       "mu                                 ...                           \n",
       "\n",
       "                                                          9875  \\\n",
       "c                                                     0.151322   \n",
       "hostebv                                                      0   \n",
       "hostr_v                                                    3.1   \n",
       "inputParams  {'t0': 50537.5, 'x0': 1.49797e-06, 'x1': 0.749...   \n",
       "mu                                                     17.3679   \n",
       "\n",
       "                                                          9893  \\\n",
       "c                                                    0.0332876   \n",
       "hostebv                                                      0   \n",
       "hostr_v                                                    3.1   \n",
       "inputParams  {'t0': 50317.4, 'x0': 5.31459e-06, 'x1': 0.939...   \n",
       "mu                                                     13.2705   \n",
       "\n",
       "                                                          9906  \\\n",
       "c                                                    0.0601968   \n",
       "hostebv                                                      0   \n",
       "hostr_v                                                    3.1   \n",
       "inputParams  {'t0': 50247.6, 'x0': 8.27902e-06, 'x1': 1.859...   \n",
       "mu                                                     12.6044   \n",
       "\n",
       "                                                          9919  \\\n",
       "c                                                    -0.064084   \n",
       "hostebv                                                      0   \n",
       "hostr_v                                                    3.1   \n",
       "inputParams  {'t0': 52795.5, 'x0': 5.27805e-06, 'x1': -0.88...   \n",
       "mu                                                     13.1048   \n",
       "\n",
       "                                                          9940  \\\n",
       "c                                                   -0.0992085   \n",
       "hostebv                                                      0   \n",
       "hostr_v                                                    3.1   \n",
       "inputParams  {'t0': 52282.4, 'x0': 1.59866e-05, 'x1': 0.300...   \n",
       "mu                                                     12.4316   \n",
       "\n",
       "                                                          9956  \\\n",
       "c                                                     0.168553   \n",
       "hostebv                                                      0   \n",
       "hostr_v                                                    3.1   \n",
       "inputParams  {'t0': 51434.1, 'x0': 1.5377e-06, 'x1': -2.071...   \n",
       "mu                                                     13.7975   \n",
       "\n",
       "                                                          9966  \\\n",
       "c                                                     0.224081   \n",
       "hostebv                                                      0   \n",
       "hostr_v                                                    3.1   \n",
       "inputParams  {'t0': 49728.8, 'x0': 3.29583e-06, 'x1': 1.077...   \n",
       "mu                                                     13.3523   \n",
       "\n",
       "                                                          9996  \\\n",
       "c                                                   -0.0279898   \n",
       "hostebv                                                      0   \n",
       "hostr_v                                                    3.1   \n",
       "inputParams  {'t0': 51182.1, 'x0': 6.8868e-06, 'x1': 1.9237...   \n",
       "mu                                                     13.3476   \n",
       "\n",
       "                                                          9997  \\\n",
       "c                                                   -0.0690699   \n",
       "hostebv                                                      0   \n",
       "hostr_v                                                    3.1   \n",
       "inputParams  {'t0': 51692.7, 'x0': 2.44391e-06, 'x1': -0.47...   \n",
       "mu                                                     14.0323   \n",
       "\n",
       "                                                          9998  \n",
       "c                                                     0.554351  \n",
       "hostebv                                                      0  \n",
       "hostr_v                                                    3.1  \n",
       "inputParams  {'t0': 52220.0, 'x0': 3.92665e-05, 'x1': -0.11...  \n",
       "mu                                                     2.41581  \n",
       "\n",
       "[5 rows x 1622 columns]"
      ]
     },
     "execution_count": 21,
     "metadata": {},
     "output_type": "execute_result"
    }
   ],
   "source": [
    "df.head()"
   ]
  },
  {
   "cell_type": "code",
   "execution_count": 22,
   "metadata": {
    "collapsed": true
   },
   "outputs": [],
   "source": [
    "snf = [s for s in snFits.values() if s is not None]"
   ]
  },
  {
   "cell_type": "code",
   "execution_count": 23,
   "metadata": {
    "collapsed": false
   },
   "outputs": [
    {
     "data": {
      "text/plain": [
       "1549"
      ]
     },
     "execution_count": 23,
     "metadata": {},
     "output_type": "execute_result"
    }
   ],
   "source": [
    "len(snf)"
   ]
  },
  {
   "cell_type": "code",
   "execution_count": 24,
   "metadata": {
    "collapsed": false
   },
   "outputs": [
    {
     "data": {
      "text/plain": [
       "z                                                       0.893399\n",
       "t0                                                       51460.8\n",
       "x0                                                   1.76928e-06\n",
       "x1                                                       9.00393\n",
       "c                                                       0.131314\n",
       "hostebv                                                        0\n",
       "hostr_v                                                      3.1\n",
       "mwebv                                                          0\n",
       "mwr_v                                                        3.1\n",
       "mu                                                       15.2327\n",
       "mu_var                                                  0.686219\n",
       "inputParams    {'t0': 51470.0, 'x0': 2.28846e-06, 'x1': 1.749...\n",
       "dtype: object"
      ]
     },
     "execution_count": 24,
     "metadata": {},
     "output_type": "execute_result"
    }
   ],
   "source": [
    "snFits['18263']"
   ]
  },
  {
   "cell_type": "code",
   "execution_count": 25,
   "metadata": {
    "collapsed": false
   },
   "outputs": [],
   "source": [
    "df = df.transpose() "
   ]
  },
  {
   "cell_type": "code",
   "execution_count": 26,
   "metadata": {
    "collapsed": false
   },
   "outputs": [
    {
     "data": {
      "text/html": [
       "<div>\n",
       "<table border=\"1\" class=\"dataframe\">\n",
       "  <thead>\n",
       "    <tr style=\"text-align: right;\">\n",
       "      <th></th>\n",
       "      <th>mu</th>\n",
       "      <th>mu_var</th>\n",
       "      <th>z</th>\n",
       "    </tr>\n",
       "  </thead>\n",
       "  <tbody>\n",
       "    <tr>\n",
       "      <th>10005</th>\n",
       "      <td>14.448511</td>\n",
       "      <td>0.253021</td>\n",
       "      <td>0.968958</td>\n",
       "    </tr>\n",
       "    <tr>\n",
       "      <th>10018</th>\n",
       "      <td>NaN</td>\n",
       "      <td>NaN</td>\n",
       "      <td>NaN</td>\n",
       "    </tr>\n",
       "    <tr>\n",
       "      <th>10024</th>\n",
       "      <td>14.663764</td>\n",
       "      <td>0.276984</td>\n",
       "      <td>0.861278</td>\n",
       "    </tr>\n",
       "    <tr>\n",
       "      <th>10034</th>\n",
       "      <td>14.292957</td>\n",
       "      <td>0.301233</td>\n",
       "      <td>0.820012</td>\n",
       "    </tr>\n",
       "    <tr>\n",
       "      <th>10059</th>\n",
       "      <td>15.308183</td>\n",
       "      <td>0.537081</td>\n",
       "      <td>1.040996</td>\n",
       "    </tr>\n",
       "  </tbody>\n",
       "</table>\n",
       "</div>"
      ],
      "text/plain": [
       "              mu    mu_var         z\n",
       "10005  14.448511  0.253021  0.968958\n",
       "10018        NaN       NaN       NaN\n",
       "10024  14.663764  0.276984  0.861278\n",
       "10034  14.292957  0.301233  0.820012\n",
       "10059  15.308183  0.537081  1.040996"
      ]
     },
     "execution_count": 26,
     "metadata": {},
     "output_type": "execute_result"
    }
   ],
   "source": [
    "results = df[['mu', 'mu_var', 'z']].astype(np.float)\n",
    "results.head()"
   ]
  },
  {
   "cell_type": "code",
   "execution_count": 27,
   "metadata": {
    "collapsed": false
   },
   "outputs": [
    {
     "data": {
      "text/plain": [
       "mu        float64\n",
       "mu_var    float64\n",
       "z         float64\n",
       "dtype: object"
      ]
     },
     "execution_count": 27,
     "metadata": {},
     "output_type": "execute_result"
    }
   ],
   "source": [
    "results.dtypes"
   ]
  },
  {
   "cell_type": "code",
   "execution_count": 28,
   "metadata": {
    "collapsed": false
   },
   "outputs": [
    {
     "data": {
      "text/html": [
       "<div>\n",
       "<table border=\"1\" class=\"dataframe\">\n",
       "  <thead>\n",
       "    <tr style=\"text-align: right;\">\n",
       "      <th></th>\n",
       "      <th>mu</th>\n",
       "      <th>mu_var</th>\n",
       "      <th>z</th>\n",
       "    </tr>\n",
       "  </thead>\n",
       "  <tbody>\n",
       "    <tr>\n",
       "      <th>10092</th>\n",
       "      <td>18.547567</td>\n",
       "      <td>1.888219</td>\n",
       "      <td>0.357580</td>\n",
       "    </tr>\n",
       "    <tr>\n",
       "      <th>1094</th>\n",
       "      <td>11.588167</td>\n",
       "      <td>0.089055</td>\n",
       "      <td>0.353296</td>\n",
       "    </tr>\n",
       "    <tr>\n",
       "      <th>11421</th>\n",
       "      <td>11.091647</td>\n",
       "      <td>0.137547</td>\n",
       "      <td>0.335215</td>\n",
       "    </tr>\n",
       "    <tr>\n",
       "      <th>11606</th>\n",
       "      <td>11.221315</td>\n",
       "      <td>0.112485</td>\n",
       "      <td>0.272933</td>\n",
       "    </tr>\n",
       "    <tr>\n",
       "      <th>11835</th>\n",
       "      <td>11.540782</td>\n",
       "      <td>0.081636</td>\n",
       "      <td>0.356288</td>\n",
       "    </tr>\n",
       "  </tbody>\n",
       "</table>\n",
       "</div>"
      ],
      "text/plain": [
       "              mu    mu_var         z\n",
       "10092  18.547567  1.888219  0.357580\n",
       "1094   11.588167  0.089055  0.353296\n",
       "11421  11.091647  0.137547  0.335215\n",
       "11606  11.221315  0.112485  0.272933\n",
       "11835  11.540782  0.081636  0.356288"
      ]
     },
     "execution_count": 28,
     "metadata": {},
     "output_type": "execute_result"
    }
   ],
   "source": [
    "lowz = results.query('z < .4')\n",
    "lowz.head()\n"
   ]
  },
  {
   "cell_type": "raw",
   "metadata": {},
   "source": [
    "highz = results.query ('z>.4')"
   ]
  },
  {
   "cell_type": "code",
   "execution_count": 29,
   "metadata": {
    "collapsed": false
   },
   "outputs": [
    {
     "data": {
      "text/plain": [
       "(array([ 0.14991376,  0.00416427,  0.        ,  0.        ,  0.00208214,\n",
       "         0.        ,  0.        ,  0.        ,  0.        ,  0.00208214]),\n",
       " array([  5.98068513e-02,   6.37922944e+00,   1.26986520e+01,\n",
       "          1.90180746e+01,   2.53374972e+01,   3.16569198e+01,\n",
       "          3.79763424e+01,   4.42957650e+01,   5.06151876e+01,\n",
       "          5.69346102e+01,   6.32540328e+01]),\n",
       " <a list of 10 Patch objects>)"
      ]
     },
     "execution_count": 29,
     "metadata": {},
     "output_type": "execute_result"
    },
    {
     "data": {
      "image/png": "[encoded data removed]",
      "text/plain": [
       "<matplotlib.figure.Figure at 0x11a1cc908>"
      ]
     },
     "metadata": {},
     "output_type": "display_data"
    }
   ],
   "source": [
    "plt.hist(lowz['mu_var'], normed=1)"
   ]
  },
  {
   "cell_type": "code",
   "execution_count": 30,
   "metadata": {
    "collapsed": false
   },
   "outputs": [
    {
     "ename": "NameError",
     "evalue": "name 'highz' is not defined",
     "output_type": "error",
     "traceback": [
      "\u001b[0;31m---------------------------------------------------------------------------\u001b[0m",
      "\u001b[0;31mNameError\u001b[0m                                 Traceback (most recent call last)",
      "\u001b[0;32m<ipython-input-30-b1af18b07941>\u001b[0m in \u001b[0;36m<module>\u001b[0;34m()\u001b[0m\n\u001b[0;32m----> 1\u001b[0;31m \u001b[0mplt\u001b[0m\u001b[0;34m.\u001b[0m\u001b[0mhist\u001b[0m \u001b[0;34m(\u001b[0m\u001b[0mhighz\u001b[0m\u001b[0;34m[\u001b[0m\u001b[0;34m'mu_var'\u001b[0m\u001b[0;34m]\u001b[0m\u001b[0;34m,\u001b[0m\u001b[0mnormed\u001b[0m\u001b[0;34m=\u001b[0m\u001b[0;36m1\u001b[0m \u001b[0;34m)\u001b[0m\u001b[0;34m\u001b[0m\u001b[0m\n\u001b[0m",
      "\u001b[0;31mNameError\u001b[0m: name 'highz' is not defined"
     ]
    }
   ],
   "source": [
    "plt.hist (highz['mu_var'],normed=1 )"
   ]
  },
  {
   "cell_type": "code",
   "execution_count": 31,
   "metadata": {
    "collapsed": false
   },
   "outputs": [],
   "source": [
    "results['bindex'] = results['z'] // 0.1"
   ]
  },
  {
   "cell_type": "code",
   "execution_count": 32,
   "metadata": {
    "collapsed": false,
    "scrolled": true
   },
   "outputs": [
    {
     "data": {
      "text/html": [
       "<div>\n",
       "<table border=\"1\" class=\"dataframe\">\n",
       "  <thead>\n",
       "    <tr style=\"text-align: right;\">\n",
       "      <th></th>\n",
       "      <th>mu</th>\n",
       "      <th>mu_var</th>\n",
       "      <th>z</th>\n",
       "      <th>bindex</th>\n",
       "    </tr>\n",
       "  </thead>\n",
       "  <tbody>\n",
       "    <tr>\n",
       "      <th>10005</th>\n",
       "      <td>14.448511</td>\n",
       "      <td>0.253021</td>\n",
       "      <td>0.968958</td>\n",
       "      <td>9.0</td>\n",
       "    </tr>\n",
       "    <tr>\n",
       "      <th>10018</th>\n",
       "      <td>NaN</td>\n",
       "      <td>NaN</td>\n",
       "      <td>NaN</td>\n",
       "      <td>NaN</td>\n",
       "    </tr>\n",
       "    <tr>\n",
       "      <th>10024</th>\n",
       "      <td>14.663764</td>\n",
       "      <td>0.276984</td>\n",
       "      <td>0.861278</td>\n",
       "      <td>8.0</td>\n",
       "    </tr>\n",
       "    <tr>\n",
       "      <th>10034</th>\n",
       "      <td>14.292957</td>\n",
       "      <td>0.301233</td>\n",
       "      <td>0.820012</td>\n",
       "      <td>8.0</td>\n",
       "    </tr>\n",
       "    <tr>\n",
       "      <th>10059</th>\n",
       "      <td>15.308183</td>\n",
       "      <td>0.537081</td>\n",
       "      <td>1.040996</td>\n",
       "      <td>10.0</td>\n",
       "    </tr>\n",
       "  </tbody>\n",
       "</table>\n",
       "</div>"
      ],
      "text/plain": [
       "              mu    mu_var         z  bindex\n",
       "10005  14.448511  0.253021  0.968958     9.0\n",
       "10018        NaN       NaN       NaN     NaN\n",
       "10024  14.663764  0.276984  0.861278     8.0\n",
       "10034  14.292957  0.301233  0.820012     8.0\n",
       "10059  15.308183  0.537081  1.040996    10.0"
      ]
     },
     "execution_count": 32,
     "metadata": {},
     "output_type": "execute_result"
    }
   ],
   "source": [
    "results.head()"
   ]
  },
  {
   "cell_type": "code",
   "execution_count": 33,
   "metadata": {
    "collapsed": false
   },
   "outputs": [
    {
     "data": {
      "text/html": [
       "<div>\n",
       "<table border=\"1\" class=\"dataframe\">\n",
       "  <thead>\n",
       "    <tr style=\"text-align: right;\">\n",
       "      <th></th>\n",
       "      <th>mu</th>\n",
       "      <th>mu_var</th>\n",
       "      <th>z</th>\n",
       "      <th>bindex</th>\n",
       "      <th>mu_err</th>\n",
       "    </tr>\n",
       "  </thead>\n",
       "  <tbody>\n",
       "    <tr>\n",
       "      <th>10005</th>\n",
       "      <td>14.448511</td>\n",
       "      <td>0.253021</td>\n",
       "      <td>0.968958</td>\n",
       "      <td>9.0</td>\n",
       "      <td>0.503012</td>\n",
       "    </tr>\n",
       "    <tr>\n",
       "      <th>10018</th>\n",
       "      <td>NaN</td>\n",
       "      <td>NaN</td>\n",
       "      <td>NaN</td>\n",
       "      <td>NaN</td>\n",
       "      <td>NaN</td>\n",
       "    </tr>\n",
       "    <tr>\n",
       "      <th>10024</th>\n",
       "      <td>14.663764</td>\n",
       "      <td>0.276984</td>\n",
       "      <td>0.861278</td>\n",
       "      <td>8.0</td>\n",
       "      <td>0.526293</td>\n",
       "    </tr>\n",
       "    <tr>\n",
       "      <th>10034</th>\n",
       "      <td>14.292957</td>\n",
       "      <td>0.301233</td>\n",
       "      <td>0.820012</td>\n",
       "      <td>8.0</td>\n",
       "      <td>0.548847</td>\n",
       "    </tr>\n",
       "    <tr>\n",
       "      <th>10059</th>\n",
       "      <td>15.308183</td>\n",
       "      <td>0.537081</td>\n",
       "      <td>1.040996</td>\n",
       "      <td>10.0</td>\n",
       "      <td>0.732858</td>\n",
       "    </tr>\n",
       "  </tbody>\n",
       "</table>\n",
       "</div>"
      ],
      "text/plain": [
       "              mu    mu_var         z  bindex    mu_err\n",
       "10005  14.448511  0.253021  0.968958     9.0  0.503012\n",
       "10018        NaN       NaN       NaN     NaN       NaN\n",
       "10024  14.663764  0.276984  0.861278     8.0  0.526293\n",
       "10034  14.292957  0.301233  0.820012     8.0  0.548847\n",
       "10059  15.308183  0.537081  1.040996    10.0  0.732858"
      ]
     },
     "execution_count": 33,
     "metadata": {},
     "output_type": "execute_result"
    }
   ],
   "source": [
    "results['mu_err'] = np.sqrt(results['mu_var']) \n",
    "results.head()\n"
   ]
  },
  {
   "cell_type": "code",
   "execution_count": 34,
   "metadata": {
    "collapsed": false
   },
   "outputs": [
    {
     "data": {
      "text/plain": [
       "mu        float64\n",
       "mu_var    float64\n",
       "z         float64\n",
       "bindex    float64\n",
       "mu_err    float64\n",
       "dtype: object"
      ]
     },
     "execution_count": 34,
     "metadata": {},
     "output_type": "execute_result"
    }
   ],
   "source": [
    "results.dtypes"
   ]
  },
  {
   "cell_type": "code",
   "execution_count": null,
   "metadata": {
    "collapsed": true
   },
   "outputs": [],
   "source": []
  },
  {
   "cell_type": "code",
   "execution_count": 35,
   "metadata": {
    "collapsed": false
   },
   "outputs": [],
   "source": [
    "grouped = results.groupby('bindex')"
   ]
  },
  {
   "cell_type": "code",
   "execution_count": 36,
   "metadata": {
    "collapsed": false
   },
   "outputs": [
    {
     "ename": "SyntaxError",
     "evalue": "invalid syntax (<ipython-input-36-1014dbcc6bd8>, line 1)",
     "output_type": "error",
     "traceback": [
      "\u001b[0;36m  File \u001b[0;32m\"<ipython-input-36-1014dbcc6bd8>\"\u001b[0;36m, line \u001b[0;32m1\u001b[0m\n\u001b[0;31m    help(.agg)\u001b[0m\n\u001b[0m         ^\u001b[0m\n\u001b[0;31mSyntaxError\u001b[0m\u001b[0;31m:\u001b[0m invalid syntax\n"
     ]
    }
   ],
   "source": [
    "help(.agg)"
   ]
  },
  {
   "cell_type": "code",
   "execution_count": null,
   "metadata": {
    "collapsed": false
   },
   "outputs": [],
   "source": []
  },
  {
   "cell_type": "markdown",
   "metadata": {},
   "source": [
    "mu_error= np.sqrt(mu_var)"
   ]
  },
  {
   "cell_type": "code",
   "execution_count": 37,
   "metadata": {
    "collapsed": true
   },
   "outputs": [],
   "source": [
    "def clipped_mean(mu_err, outlier_threshhold):\n",
    "    return(mu_err[mu_err< outlier_threshhold])"
   ]
  },
  {
   "cell_type": "code",
   "execution_count": 38,
   "metadata": {
    "collapsed": false
   },
   "outputs": [
    {
     "data": {
      "text/html": [
       "<div>\n",
       "<table border=\"1\" class=\"dataframe\">\n",
       "  <thead>\n",
       "    <tr>\n",
       "      <th></th>\n",
       "      <th colspan=\"3\" halign=\"left\">mu_err</th>\n",
       "    </tr>\n",
       "    <tr>\n",
       "      <th></th>\n",
       "      <th>mean</th>\n",
       "      <th>std</th>\n",
       "      <th>count</th>\n",
       "    </tr>\n",
       "    <tr>\n",
       "      <th>bindex</th>\n",
       "      <th></th>\n",
       "      <th></th>\n",
       "      <th></th>\n",
       "    </tr>\n",
       "  </thead>\n",
       "  <tbody>\n",
       "    <tr>\n",
       "      <th>0.0</th>\n",
       "      <td>0.373468</td>\n",
       "      <td>NaN</td>\n",
       "      <td>1</td>\n",
       "    </tr>\n",
       "    <tr>\n",
       "      <th>1.0</th>\n",
       "      <td>1.103441</td>\n",
       "      <td>1.207650</td>\n",
       "      <td>6</td>\n",
       "    </tr>\n",
       "    <tr>\n",
       "      <th>2.0</th>\n",
       "      <td>1.307009</td>\n",
       "      <td>2.087522</td>\n",
       "      <td>14</td>\n",
       "    </tr>\n",
       "    <tr>\n",
       "      <th>3.0</th>\n",
       "      <td>0.570498</td>\n",
       "      <td>0.768157</td>\n",
       "      <td>55</td>\n",
       "    </tr>\n",
       "    <tr>\n",
       "      <th>4.0</th>\n",
       "      <td>6.898620</td>\n",
       "      <td>40.848421</td>\n",
       "      <td>89</td>\n",
       "    </tr>\n",
       "    <tr>\n",
       "      <th>5.0</th>\n",
       "      <td>2.104664</td>\n",
       "      <td>9.440305</td>\n",
       "      <td>108</td>\n",
       "    </tr>\n",
       "    <tr>\n",
       "      <th>6.0</th>\n",
       "      <td>0.719500</td>\n",
       "      <td>1.612042</td>\n",
       "      <td>152</td>\n",
       "    </tr>\n",
       "    <tr>\n",
       "      <th>7.0</th>\n",
       "      <td>5.152529</td>\n",
       "      <td>44.701225</td>\n",
       "      <td>206</td>\n",
       "    </tr>\n",
       "    <tr>\n",
       "      <th>8.0</th>\n",
       "      <td>10.158995</td>\n",
       "      <td>86.077829</td>\n",
       "      <td>228</td>\n",
       "    </tr>\n",
       "    <tr>\n",
       "      <th>9.0</th>\n",
       "      <td>1.476631</td>\n",
       "      <td>5.805465</td>\n",
       "      <td>236</td>\n",
       "    </tr>\n",
       "    <tr>\n",
       "      <th>10.0</th>\n",
       "      <td>2.408266</td>\n",
       "      <td>14.723936</td>\n",
       "      <td>257</td>\n",
       "    </tr>\n",
       "    <tr>\n",
       "      <th>11.0</th>\n",
       "      <td>7.374892</td>\n",
       "      <td>75.816557</td>\n",
       "      <td>195</td>\n",
       "    </tr>\n",
       "  </tbody>\n",
       "</table>\n",
       "</div>"
      ],
      "text/plain": [
       "           mu_err                 \n",
       "             mean        std count\n",
       "bindex                            \n",
       "0.0      0.373468        NaN     1\n",
       "1.0      1.103441   1.207650     6\n",
       "2.0      1.307009   2.087522    14\n",
       "3.0      0.570498   0.768157    55\n",
       "4.0      6.898620  40.848421    89\n",
       "5.0      2.104664   9.440305   108\n",
       "6.0      0.719500   1.612042   152\n",
       "7.0      5.152529  44.701225   206\n",
       "8.0     10.158995  86.077829   228\n",
       "9.0      1.476631   5.805465   236\n",
       "10.0     2.408266  14.723936   257\n",
       "11.0     7.374892  75.816557   195"
      ]
     },
     "execution_count": 38,
     "metadata": {},
     "output_type": "execute_result"
    }
   ],
   "source": [
    "mu_err_table = grouped.agg(dict(mu_err=[np.mean, np.std, \"count\"]))\n",
    "mu_err_table"
   ]
  },
  {
   "cell_type": "code",
   "execution_count": 39,
   "metadata": {
    "collapsed": false
   },
   "outputs": [
    {
     "data": {
      "text/plain": [
       "1547"
      ]
     },
     "execution_count": 39,
     "metadata": {},
     "output_type": "execute_result"
    }
   ],
   "source": [
    "mu_err_table.mu_err['count'].sum()"
   ]
  },
  {
   "cell_type": "code",
   "execution_count": 40,
   "metadata": {
    "collapsed": false
   },
   "outputs": [],
   "source": [
    "def numinbins(tab, NumSN):\n",
    "    x = (tab.mu_err['count']/tab.mu_err['count'].sum())\n",
    "    return(round(x*NumSN).astype(np.int))"
   ]
  },
  {
   "cell_type": "code",
   "execution_count": 51,
   "metadata": {
    "collapsed": false
   },
   "outputs": [
    {
     "data": {
      "text/plain": [
       "bindex\n",
       "0.0       1\n",
       "1.0       8\n",
       "2.0      18\n",
       "3.0      71\n",
       "4.0     115\n",
       "5.0     140\n",
       "6.0     197\n",
       "7.0     266\n",
       "8.0     295\n",
       "9.0     305\n",
       "10.0    332\n",
       "11.0    252\n",
       "Name: count, dtype: int64"
      ]
     },
     "execution_count": 51,
     "metadata": {},
     "output_type": "execute_result"
    }
   ],
   "source": [
    "numinbins(mu_err_table, 2000)"
   ]
  },
  {
   "cell_type": "code",
   "execution_count": 42,
   "metadata": {
    "collapsed": true
   },
   "outputs": [],
   "source": [
    "#write muerr \n",
    "#loop through each bin and take the number we get from num in bins and then \n",
    "#np.random.normal(mean,std, size)\n"
   ]
  },
  {
   "cell_type": "code",
   "execution_count": 47,
   "metadata": {
    "collapsed": false
   },
   "outputs": [
    {
     "data": {
      "text/plain": [
       "array([          nan,    1.70852622,    5.24375982,   -0.27541247,\n",
       "         71.95687736,  -10.37423429,    0.85187166,  -51.79287987,\n",
       "        142.53893397,    1.90322611,   -6.8915982 ,   37.68158818])"
      ]
     },
     "execution_count": 47,
     "metadata": {},
     "output_type": "execute_result"
    }
   ],
   "source": [
    "def muerr(tab, NumSN):\n",
    "    return np.random.normal(tab.mu_err['mean'], tab.mu_err ['std'])\n",
    "muerr(mu_err_table, 1000)\n"
   ]
  },
  {
   "cell_type": "code",
   "execution_count": null,
   "metadata": {
    "collapsed": false
   },
   "outputs": [],
   "source": []
  },
  {
   "cell_type": "code",
   "execution_count": null,
   "metadata": {
    "collapsed": false
   },
   "outputs": [],
   "source": []
  },
  {
   "cell_type": "code",
   "execution_count": null,
   "metadata": {
    "collapsed": false
   },
   "outputs": [],
   "source": []
  },
  {
   "cell_type": "code",
   "execution_count": 52,
   "metadata": {
    "collapsed": true
   },
   "outputs": [],
   "source": [
    "mu_err_table['frequencies']= mu_err_table.mu_err['count']/mu_err_table.mu_err['count'].sum()"
   ]
  },
  {
   "cell_type": "code",
   "execution_count": 69,
   "metadata": {
    "collapsed": false
   },
   "outputs": [],
   "source": [
    "mu_err_table= mu_err_table.ix[1:]"
   ]
  },
  {
   "cell_type": "code",
   "execution_count": 70,
   "metadata": {
    "collapsed": false
   },
   "outputs": [
    {
     "data": {
      "text/html": [
       "<div>\n",
       "<table border=\"1\" class=\"dataframe\">\n",
       "  <thead>\n",
       "    <tr>\n",
       "      <th></th>\n",
       "      <th colspan=\"3\" halign=\"left\">mu_err</th>\n",
       "      <th>frequencies</th>\n",
       "    </tr>\n",
       "    <tr>\n",
       "      <th></th>\n",
       "      <th>mean</th>\n",
       "      <th>std</th>\n",
       "      <th>count</th>\n",
       "      <th></th>\n",
       "    </tr>\n",
       "    <tr>\n",
       "      <th>bindex</th>\n",
       "      <th></th>\n",
       "      <th></th>\n",
       "      <th></th>\n",
       "      <th></th>\n",
       "    </tr>\n",
       "  </thead>\n",
       "  <tbody>\n",
       "    <tr>\n",
       "      <th>1.0</th>\n",
       "      <td>1.103441</td>\n",
       "      <td>1.207650</td>\n",
       "      <td>6</td>\n",
       "      <td>0.003878</td>\n",
       "    </tr>\n",
       "    <tr>\n",
       "      <th>2.0</th>\n",
       "      <td>1.307009</td>\n",
       "      <td>2.087522</td>\n",
       "      <td>14</td>\n",
       "      <td>0.009050</td>\n",
       "    </tr>\n",
       "    <tr>\n",
       "      <th>3.0</th>\n",
       "      <td>0.570498</td>\n",
       "      <td>0.768157</td>\n",
       "      <td>55</td>\n",
       "      <td>0.035553</td>\n",
       "    </tr>\n",
       "    <tr>\n",
       "      <th>4.0</th>\n",
       "      <td>6.898620</td>\n",
       "      <td>40.848421</td>\n",
       "      <td>89</td>\n",
       "      <td>0.057531</td>\n",
       "    </tr>\n",
       "    <tr>\n",
       "      <th>5.0</th>\n",
       "      <td>2.104664</td>\n",
       "      <td>9.440305</td>\n",
       "      <td>108</td>\n",
       "      <td>0.069813</td>\n",
       "    </tr>\n",
       "    <tr>\n",
       "      <th>6.0</th>\n",
       "      <td>0.719500</td>\n",
       "      <td>1.612042</td>\n",
       "      <td>152</td>\n",
       "      <td>0.098255</td>\n",
       "    </tr>\n",
       "    <tr>\n",
       "      <th>7.0</th>\n",
       "      <td>5.152529</td>\n",
       "      <td>44.701225</td>\n",
       "      <td>206</td>\n",
       "      <td>0.133161</td>\n",
       "    </tr>\n",
       "    <tr>\n",
       "      <th>8.0</th>\n",
       "      <td>10.158995</td>\n",
       "      <td>86.077829</td>\n",
       "      <td>228</td>\n",
       "      <td>0.147382</td>\n",
       "    </tr>\n",
       "    <tr>\n",
       "      <th>9.0</th>\n",
       "      <td>1.476631</td>\n",
       "      <td>5.805465</td>\n",
       "      <td>236</td>\n",
       "      <td>0.152553</td>\n",
       "    </tr>\n",
       "    <tr>\n",
       "      <th>10.0</th>\n",
       "      <td>2.408266</td>\n",
       "      <td>14.723936</td>\n",
       "      <td>257</td>\n",
       "      <td>0.166128</td>\n",
       "    </tr>\n",
       "    <tr>\n",
       "      <th>11.0</th>\n",
       "      <td>7.374892</td>\n",
       "      <td>75.816557</td>\n",
       "      <td>195</td>\n",
       "      <td>0.126050</td>\n",
       "    </tr>\n",
       "  </tbody>\n",
       "</table>\n",
       "</div>"
      ],
      "text/plain": [
       "           mu_err                  frequencies\n",
       "             mean        std count            \n",
       "bindex                                        \n",
       "1.0      1.103441   1.207650     6    0.003878\n",
       "2.0      1.307009   2.087522    14    0.009050\n",
       "3.0      0.570498   0.768157    55    0.035553\n",
       "4.0      6.898620  40.848421    89    0.057531\n",
       "5.0      2.104664   9.440305   108    0.069813\n",
       "6.0      0.719500   1.612042   152    0.098255\n",
       "7.0      5.152529  44.701225   206    0.133161\n",
       "8.0     10.158995  86.077829   228    0.147382\n",
       "9.0      1.476631   5.805465   236    0.152553\n",
       "10.0     2.408266  14.723936   257    0.166128\n",
       "11.0     7.374892  75.816557   195    0.126050"
      ]
     },
     "execution_count": 70,
     "metadata": {},
     "output_type": "execute_result"
    }
   ],
   "source": [
    "mu_err_table"
   ]
  },
  {
   "cell_type": "markdown",
   "metadata": {},
   "source": [
    "mu_err_table"
   ]
  },
  {
   "cell_type": "code",
   "execution_count": 100,
   "metadata": {
    "collapsed": false
   },
   "outputs": [
    {
     "name": "stdout",
     "output_type": "stream",
     "text": [
      "bindex\n",
      "1.0      194\n",
      "2.0      452\n",
      "3.0     1778\n",
      "4.0     2877\n",
      "5.0     3491\n",
      "6.0     4913\n",
      "7.0     6658\n",
      "8.0     7369\n",
      "9.0     7628\n",
      "10.0    8306\n",
      "11.0    6303\n",
      "Name: frequencies, dtype: int64\n"
     ]
    }
   ],
   "source": [
    "NumSN= 50000\n",
    "numObjectsPerBin = np.round(mu_err_table.frequencies * NumSN).astype(np.int)\n",
    "print(numObjectsPerBin)"
   ]
  },
  {
   "cell_type": "code",
   "execution_count": null,
   "metadata": {
    "collapsed": false
   },
   "outputs": [],
   "source": []
  },
  {
   "cell_type": "code",
   "execution_count": 78,
   "metadata": {
    "collapsed": false
   },
   "outputs": [],
   "source": [
    "m, s  = [mu_err_table.mu_err['mean'], mu_err_table.mu_err['std']] # Now the mean of the 0th bin is assigned to m, and std to s\n",
    "#X = np.random.normal(m, s, size=numObjectsPerBin.ix[1] )\n",
    "#print()\n"
   ]
  },
  {
   "cell_type": "code",
   "execution_count": 79,
   "metadata": {
    "collapsed": false
   },
   "outputs": [
    {
     "data": {
      "text/plain": [
       "bindex\n",
       "1.0      1.103441\n",
       "2.0      1.307009\n",
       "3.0      0.570498\n",
       "4.0      6.898620\n",
       "5.0      2.104664\n",
       "6.0      0.719500\n",
       "7.0      5.152529\n",
       "8.0     10.158995\n",
       "9.0      1.476631\n",
       "10.0     2.408266\n",
       "11.0     7.374892\n",
       "Name: mean, dtype: float64"
      ]
     },
     "execution_count": 79,
     "metadata": {},
     "output_type": "execute_result"
    }
   ],
   "source": [
    "m"
   ]
  },
  {
   "cell_type": "code",
   "execution_count": 80,
   "metadata": {
    "collapsed": false
   },
   "outputs": [
    {
     "data": {
      "text/plain": [
       "bindex\n",
       "1.0      1.207650\n",
       "2.0      2.087522\n",
       "3.0      0.768157\n",
       "4.0     40.848421\n",
       "5.0      9.440305\n",
       "6.0      1.612042\n",
       "7.0     44.701225\n",
       "8.0     86.077829\n",
       "9.0      5.805465\n",
       "10.0    14.723936\n",
       "11.0    75.816557\n",
       "Name: std, dtype: float64"
      ]
     },
     "execution_count": 80,
     "metadata": {},
     "output_type": "execute_result"
    }
   ],
   "source": [
    "s"
   ]
  },
  {
   "cell_type": "code",
   "execution_count": 87,
   "metadata": {
    "collapsed": false
   },
   "outputs": [
    {
     "data": {
      "text/plain": [
       "bindex\n",
       "1.0      194\n",
       "2.0      452\n",
       "3.0     1778\n",
       "4.0     2877\n",
       "5.0     3491\n",
       "6.0     4913\n",
       "7.0     6658\n",
       "8.0     7369\n",
       "9.0     7628\n",
       "10.0    8306\n",
       "11.0    6303\n",
       "Name: frequencies, dtype: int64"
      ]
     },
     "execution_count": 87,
     "metadata": {},
     "output_type": "execute_result"
    }
   ],
   "source": [
    "numObjectsPerBin"
   ]
  },
  {
   "cell_type": "code",
   "execution_count": 134,
   "metadata": {
    "collapsed": false
   },
   "outputs": [],
   "source": [
    "X = [np.random.normal(m[i], s[i], size=numObjectsPerBin[i]) for i in range(1, len(numObjectsPerBin))]"
   ]
  },
  {
   "cell_type": "code",
   "execution_count": 135,
   "metadata": {
    "collapsed": false
   },
   "outputs": [
    {
     "data": {
      "text/plain": [
       "array([ 0.91941205,  1.76466685,  1.79642477,  2.24608513, -1.20968645,\n",
       "        0.71445211,  1.34014932,  3.04591093,  1.08341817,  0.47791657,\n",
       "        0.66347232, -0.21995493,  1.74907226,  0.71856483,  3.87252269,\n",
       "        0.65245052,  1.28400697,  2.21388052, -0.07750609, -0.75914447,\n",
       "       -1.25930482,  2.76122054,  0.86582104,  1.60613476, -1.0934847 ,\n",
       "        1.44614086,  1.11597078,  0.80973891,  2.65808119,  0.52027908,\n",
       "       -0.40061102,  1.432127  , -0.21343925,  3.06297737,  2.81787563,\n",
       "        0.8494697 ,  2.59530725,  0.25713775,  1.88944041,  2.76106885,\n",
       "        2.62599904,  2.5123945 ,  3.16984068,  2.6632955 , -0.49352696,\n",
       "        2.15644649, -0.07426677,  2.13256517,  1.09974114,  0.5724119 ,\n",
       "        0.08107513,  2.76831196,  1.19551538,  3.45336932,  1.47261591,\n",
       "        1.56467441,  0.52669013,  0.58153201,  3.3127229 ,  1.95425121,\n",
       "        1.33633091,  1.43214632,  1.61035914,  0.43423544,  3.26385879,\n",
       "        0.09448501,  1.10261395,  2.07225217,  3.19495831,  1.21777035,\n",
       "        1.4132737 ,  1.83110981,  2.23731575,  1.73075041, -0.31365794,\n",
       "        2.23617573,  1.30692248,  1.29021689,  1.15758241,  1.03476058,\n",
       "        1.24148881,  1.48313243,  1.35346441,  0.40657226,  2.97579993,\n",
       "        0.33717898,  2.10053447,  1.2813015 ,  0.70631711,  2.44645259,\n",
       "        1.55868179,  2.57481174,  3.069692  , -1.09244834,  1.0486876 ,\n",
       "        0.93495477,  0.72343775,  1.47557409,  0.99025586, -1.44798646,\n",
       "        2.41567595,  1.58858351,  1.35467577, -1.79039709,  3.49962274,\n",
       "        1.88930747,  2.77428596,  1.59165262,  0.58561573,  0.84800403,\n",
       "        0.99489482, -0.64192608,  3.48760402,  2.69932511,  0.3384258 ,\n",
       "        0.7022696 , -2.57139818, -0.4705063 , -0.43175914,  0.07447956,\n",
       "        1.79764478,  4.67972775,  3.41357967, -0.3137562 ,  1.311513  ,\n",
       "        1.99398059,  1.80102485,  1.87848753,  0.71228015,  3.29497036,\n",
       "        0.5171867 ,  0.56031997,  0.21301045,  0.12592147,  0.39324208,\n",
       "        0.33079894,  0.53381634,  0.51821554,  1.66426044, -0.45045163,\n",
       "        1.8057348 ,  1.10756182,  1.83453383,  0.55114982,  0.63019915,\n",
       "        1.91916563,  1.98021513,  2.30931597, -1.1642457 ,  1.01762514,\n",
       "        2.81586776,  1.5131604 ,  0.60103604,  1.81283486,  0.00592637,\n",
       "        2.87096826,  0.1831927 ,  3.9361924 ,  0.74498874,  1.61414099,\n",
       "        0.77935623,  2.4723871 ,  0.55723687,  0.30441865,  0.98964967,\n",
       "        2.15524037,  0.35514599,  1.02771343,  0.15413977,  0.72204913,\n",
       "        1.40357466,  1.38138351,  1.35168933,  1.67954056,  2.50096328,\n",
       "        1.28683682, -0.20230408,  0.69375055,  3.30938341,  1.3616324 ,\n",
       "        0.20841943,  0.02049561,  0.86850753,  2.06088227, -0.41895232,\n",
       "        0.59882941,  0.28999041, -0.06355941, -0.0247653 ,  1.71073986,\n",
       "        2.47668442,  1.75045745,  2.23818737,  2.72069112])"
      ]
     },
     "execution_count": 135,
     "metadata": {},
     "output_type": "execute_result"
    }
   ],
   "source": [
    "X[0]"
   ]
  },
  {
   "cell_type": "code",
   "execution_count": 90,
   "metadata": {
    "collapsed": false
   },
   "outputs": [
    {
     "data": {
      "text/plain": [
       "194"
      ]
     },
     "execution_count": 90,
     "metadata": {},
     "output_type": "execute_result"
    }
   ],
   "source": [
    "len(X[0])"
   ]
  },
  {
   "cell_type": "code",
   "execution_count": 91,
   "metadata": {
    "collapsed": false
   },
   "outputs": [
    {
     "data": {
      "text/plain": [
       "0.96058491273073876"
      ]
     },
     "execution_count": 91,
     "metadata": {},
     "output_type": "execute_result"
    }
   ],
   "source": [
    "np.mean(X[0])"
   ]
  },
  {
   "cell_type": "code",
   "execution_count": 92,
   "metadata": {
    "collapsed": false
   },
   "outputs": [
    {
     "data": {
      "text/plain": [
       "6.1146482875655028"
      ]
     },
     "execution_count": 92,
     "metadata": {},
     "output_type": "execute_result"
    }
   ],
   "source": [
    "np.mean(X[3])"
   ]
  },
  {
   "cell_type": "code",
   "execution_count": 133,
   "metadata": {
    "collapsed": false
   },
   "outputs": [
    {
     "data": {
      "text/plain": [
       "0"
      ]
     },
     "execution_count": 133,
     "metadata": {},
     "output_type": "execute_result"
    }
   ],
   "source": [
    "len(X)#x=xvals"
   ]
  },
  {
   "cell_type": "code",
   "execution_count": 94,
   "metadata": {
    "collapsed": false
   },
   "outputs": [
    {
     "data": {
      "text/plain": [
       "list"
      ]
     },
     "execution_count": 94,
     "metadata": {},
     "output_type": "execute_result"
    }
   ],
   "source": [
    "type(X)"
   ]
  },
  {
   "cell_type": "code",
   "execution_count": 97,
   "metadata": {
    "collapsed": false
   },
   "outputs": [],
   "source": [
    "x=np.array(list(map(len, X)))\n",
    "y =np.float(sum(list(map(len,X))))"
   ]
  },
  {
   "cell_type": "code",
   "execution_count": 103,
   "metadata": {
    "collapsed": false
   },
   "outputs": [
    {
     "data": {
      "text/plain": [
       "50000"
      ]
     },
     "execution_count": 103,
     "metadata": {},
     "output_type": "execute_result"
    }
   ],
   "source": [
    "z= np.random.uniform(0,.1, size = NumSN)\n",
    "len(z)"
   ]
  },
  {
   "cell_type": "code",
   "execution_count": 104,
   "metadata": {
    "collapsed": false
   },
   "outputs": [
    {
     "data": {
      "text/plain": [
       "(array([ 4962.,  5014.,  5073.,  5034.,  4998.,  5063.,  5087.,  4815.,\n",
       "         4953.,  5001.]),\n",
       " array([  4.06536406e-07,   9.99970163e-03,   1.99989967e-02,\n",
       "          2.99982918e-02,   3.99975869e-02,   4.99968820e-02,\n",
       "          5.99961771e-02,   6.99954722e-02,   7.99947673e-02,\n",
       "          8.99940624e-02,   9.99933575e-02]),\n",
       " <a list of 10 Patch objects>)"
      ]
     },
     "execution_count": 104,
     "metadata": {},
     "output_type": "execute_result"
    },
    {
     "data": {
      "image/png": "[encoded data removed]",
      "text/plain": [
       "<matplotlib.figure.Figure at 0x11a07efd0>"
      ]
     },
     "metadata": {},
     "output_type": "display_data"
    }
   ],
   "source": [
    "plt.hist(z)"
   ]
  },
  {
   "cell_type": "code",
   "execution_count": 105,
   "metadata": {
    "collapsed": false
   },
   "outputs": [
    {
     "data": {
      "text/plain": [
       "bindex\n",
       "1.0      194\n",
       "2.0      452\n",
       "3.0     1778\n",
       "4.0     2877\n",
       "5.0     3491\n",
       "6.0     4913\n",
       "7.0     6658\n",
       "8.0     7369\n",
       "9.0     7628\n",
       "10.0    8306\n",
       "11.0    6303\n",
       "Name: frequencies, dtype: int64"
      ]
     },
     "execution_count": 105,
     "metadata": {},
     "output_type": "execute_result"
    }
   ],
   "source": [
    "numObjectsPerBin"
   ]
  },
  {
   "cell_type": "code",
   "execution_count": 112,
   "metadata": {
    "collapsed": false
   },
   "outputs": [
    {
     "data": {
      "text/plain": [
       "array([ 0.08658805,  0.09589284,  0.06418976,  0.00047568,  0.09157449,\n",
       "        0.09172002,  0.09022202,  0.07924673,  0.04364696,  0.04897759,\n",
       "        0.09991632,  0.0483836 ,  0.07928154,  0.0249631 ,  0.05947558,\n",
       "        0.07984461,  0.00419341,  0.09889894,  0.02272453,  0.02848394,\n",
       "        0.06447084,  0.0926921 ,  0.0039041 ,  0.01029939,  0.05336204,\n",
       "        0.02512074,  0.00786662,  0.01069563,  0.03168631,  0.00325858,\n",
       "        0.0112379 ,  0.03437233,  0.07152171,  0.07665175,  0.03130638,\n",
       "        0.04732847,  0.02397473,  0.07256247,  0.04151408,  0.05253412,\n",
       "        0.03850797,  0.0950497 ,  0.09819488,  0.02980222,  0.04254983,\n",
       "        0.00607425,  0.04284813,  0.04960068,  0.09351136,  0.0517872 ,\n",
       "        0.05484294,  0.0254873 ,  0.00154036,  0.09498638,  0.07044467,\n",
       "        0.04755441,  0.01744777,  0.09714333,  0.05893229,  0.06346481,\n",
       "        0.08189448,  0.0177548 ,  0.00250163,  0.05458538,  0.08113833,\n",
       "        0.06654087,  0.07643926,  0.05430484,  0.0221521 ,  0.06446706,\n",
       "        0.06079245,  0.0782038 ,  0.06143962,  0.01397029,  0.00873274,\n",
       "        0.03923021,  0.0741281 ,  0.09073162,  0.06663969,  0.04973997,\n",
       "        0.09775713,  0.05933426,  0.010086  ,  0.0276431 ,  0.05262921,\n",
       "        0.00036781,  0.02313655,  0.03536492,  0.03434957,  0.01923871,\n",
       "        0.09662285,  0.01577785,  0.08161946,  0.04337468,  0.04637893,\n",
       "        0.0885511 ,  0.02813746,  0.05416266,  0.01288699,  0.08702031,\n",
       "        0.05664449,  0.05502589,  0.05858608,  0.04324268,  0.06891088,\n",
       "        0.04081881,  0.03201004,  0.09015594,  0.06356026,  0.06427849,\n",
       "        0.02293331,  0.07616303,  0.04602726,  0.02444455,  0.08102978,\n",
       "        0.08442883,  0.03233871,  0.04482971,  0.00538209,  0.0828261 ,\n",
       "        0.09433794,  0.04697279,  0.01305313,  0.04659816,  0.07823678,\n",
       "        0.09517491,  0.09243892,  0.05111281,  0.05463918,  0.08797343,\n",
       "        0.07697238,  0.09582934,  0.07686505,  0.08223726,  0.0099606 ,\n",
       "        0.06948025,  0.00803508,  0.02767265,  0.09265948,  0.0605295 ,\n",
       "        0.06871267,  0.08513729,  0.02485101,  0.00716116,  0.00947593,\n",
       "        0.06431185,  0.01312154,  0.03374165,  0.02795796,  0.01087835,\n",
       "        0.01108035,  0.05618373,  0.08668628,  0.03625218,  0.07915796,\n",
       "        0.01838152,  0.04354685,  0.00718477,  0.0009825 ,  0.06273106,\n",
       "        0.03681869,  0.03898344,  0.02083225,  0.01208104,  0.02368732,\n",
       "        0.09292689,  0.09304337,  0.02507859,  0.08530429,  0.03793904,\n",
       "        0.05354855,  0.09937951,  0.08291304,  0.04594451,  0.07507215,\n",
       "        0.06130393,  0.08252223,  0.09194744,  0.04733774,  0.00832228,\n",
       "        0.08555055,  0.05549378,  0.08753095,  0.01541326,  0.07064474,\n",
       "        0.07851825,  0.0244841 ,  0.03840226,  0.02525668,  0.08463864,\n",
       "        0.02535833,  0.04581989,  0.09017833,  0.04173416])"
      ]
     },
     "execution_count": 112,
     "metadata": {},
     "output_type": "execute_result"
    }
   ],
   "source": [
    "z[:numObjectsPerBin.values[0]]"
   ]
  },
  {
   "cell_type": "code",
   "execution_count": 113,
   "metadata": {
    "collapsed": false
   },
   "outputs": [
    {
     "data": {
      "text/plain": [
       "array([ 0.08658805,  0.09589284,  0.06418976,  0.00047568,  0.09157449,\n",
       "        0.09172002,  0.09022202,  0.07924673,  0.04364696,  0.04897759,\n",
       "        0.09991632,  0.0483836 ,  0.07928154,  0.0249631 ,  0.05947558,\n",
       "        0.07984461,  0.00419341,  0.09889894,  0.02272453,  0.02848394,\n",
       "        0.06447084,  0.0926921 ,  0.0039041 ,  0.01029939,  0.05336204,\n",
       "        0.02512074,  0.00786662,  0.01069563,  0.03168631,  0.00325858,\n",
       "        0.0112379 ,  0.03437233,  0.07152171,  0.07665175,  0.03130638,\n",
       "        0.04732847,  0.02397473,  0.07256247,  0.04151408,  0.05253412,\n",
       "        0.03850797,  0.0950497 ,  0.09819488,  0.02980222,  0.04254983,\n",
       "        0.00607425,  0.04284813,  0.04960068,  0.09351136,  0.0517872 ,\n",
       "        0.05484294,  0.0254873 ,  0.00154036,  0.09498638,  0.07044467,\n",
       "        0.04755441,  0.01744777,  0.09714333,  0.05893229,  0.06346481,\n",
       "        0.08189448,  0.0177548 ,  0.00250163,  0.05458538,  0.08113833,\n",
       "        0.06654087,  0.07643926,  0.05430484,  0.0221521 ,  0.06446706,\n",
       "        0.06079245,  0.0782038 ,  0.06143962,  0.01397029,  0.00873274,\n",
       "        0.03923021,  0.0741281 ,  0.09073162,  0.06663969,  0.04973997,\n",
       "        0.09775713,  0.05933426,  0.010086  ,  0.0276431 ,  0.05262921,\n",
       "        0.00036781,  0.02313655,  0.03536492,  0.03434957,  0.01923871,\n",
       "        0.09662285,  0.01577785,  0.08161946,  0.04337468,  0.04637893,\n",
       "        0.0885511 ,  0.02813746,  0.05416266,  0.01288699,  0.08702031,\n",
       "        0.05664449,  0.05502589,  0.05858608,  0.04324268,  0.06891088,\n",
       "        0.04081881,  0.03201004,  0.09015594,  0.06356026,  0.06427849,\n",
       "        0.02293331,  0.07616303,  0.04602726,  0.02444455,  0.08102978,\n",
       "        0.08442883,  0.03233871,  0.04482971,  0.00538209,  0.0828261 ,\n",
       "        0.09433794,  0.04697279,  0.01305313,  0.04659816,  0.07823678,\n",
       "        0.09517491,  0.09243892,  0.05111281,  0.05463918,  0.08797343,\n",
       "        0.07697238,  0.09582934,  0.07686505,  0.08223726,  0.0099606 ,\n",
       "        0.06948025,  0.00803508,  0.02767265,  0.09265948,  0.0605295 ,\n",
       "        0.06871267,  0.08513729,  0.02485101,  0.00716116,  0.00947593,\n",
       "        0.06431185,  0.01312154,  0.03374165,  0.02795796,  0.01087835,\n",
       "        0.01108035,  0.05618373,  0.08668628,  0.03625218,  0.07915796,\n",
       "        0.01838152,  0.04354685,  0.00718477,  0.0009825 ,  0.06273106,\n",
       "        0.03681869,  0.03898344,  0.02083225,  0.01208104,  0.02368732,\n",
       "        0.09292689,  0.09304337,  0.02507859,  0.08530429,  0.03793904,\n",
       "        0.05354855,  0.09937951,  0.08291304,  0.04594451,  0.07507215,\n",
       "        0.06130393,  0.08252223,  0.09194744,  0.04733774,  0.00832228,\n",
       "        0.08555055,  0.05549378,  0.08753095,  0.01541326,  0.07064474,\n",
       "        0.07851825,  0.0244841 ,  0.03840226,  0.02525668,  0.08463864,\n",
       "        0.02535833,  0.04581989,  0.09017833,  0.04173416,  0.03951398,\n",
       "        0.02096794,  0.04092782,  0.07458315,  0.05729356,  0.09737759,\n",
       "        0.00772543,  0.0395089 ,  0.06754258,  0.0204456 ,  0.07490195,\n",
       "        0.0447623 ,  0.04782231,  0.07448533,  0.05683416,  0.07341361,\n",
       "        0.03675488,  0.01503632,  0.06175885,  0.06803262,  0.0349007 ,\n",
       "        0.08191993,  0.01324321,  0.01215171,  0.04787596,  0.059499  ,\n",
       "        0.04444812,  0.0149104 ,  0.0830268 ,  0.07393148,  0.08116103,\n",
       "        0.09978029,  0.07894846,  0.06705693,  0.01100556,  0.07744534,\n",
       "        0.04072143,  0.08455975,  0.00666757,  0.02481717,  0.02236201,\n",
       "        0.07949182,  0.03622346,  0.00886837,  0.07322374,  0.08825011,\n",
       "        0.01726707,  0.05592088,  0.01596713,  0.06465002,  0.05773243,\n",
       "        0.0173761 ,  0.08214194,  0.01892048,  0.07722455,  0.0249278 ,\n",
       "        0.04368913,  0.09325817,  0.05325557,  0.09341978,  0.0364209 ,\n",
       "        0.02534206,  0.03294279,  0.03708872,  0.01054738,  0.09503819,\n",
       "        0.06751767,  0.04696304,  0.08590237,  0.00703152,  0.06450272,\n",
       "        0.02327011,  0.06369853,  0.06275478,  0.01764995,  0.00829006,\n",
       "        0.06236577,  0.02809308,  0.00508569,  0.00312876,  0.08800192,\n",
       "        0.08373666,  0.00734601,  0.00998951,  0.00214373,  0.05214032,\n",
       "        0.02824809,  0.00862897,  0.0262745 ,  0.08667608,  0.04997644,\n",
       "        0.05798579,  0.07933609,  0.06522786,  0.02905597,  0.04206674,\n",
       "        0.08619769,  0.06243037,  0.05108752,  0.08956206,  0.09496632,\n",
       "        0.07024587,  0.07120429,  0.04393805,  0.02258995,  0.08667931,\n",
       "        0.09142344,  0.08891146,  0.04686668,  0.07986667,  0.09130075,\n",
       "        0.06115758,  0.0181265 ,  0.01676552,  0.03329227,  0.0586602 ,\n",
       "        0.05489664,  0.09648499,  0.09407888,  0.086843  ,  0.00315839,\n",
       "        0.05897049,  0.03676713,  0.07827597,  0.09714433,  0.09821824,\n",
       "        0.0814216 ,  0.06709851,  0.04037665,  0.09742535,  0.0072893 ,\n",
       "        0.00207074,  0.08172441,  0.00066585,  0.06767212,  0.03730997,\n",
       "        0.01810798,  0.00354876,  0.09381517,  0.09293605,  0.02992124,\n",
       "        0.08129968,  0.05650961,  0.0234831 ,  0.03649021,  0.03898466,\n",
       "        0.05069507,  0.05116094,  0.00666622,  0.01052939,  0.05102264,\n",
       "        0.04786692,  0.07985839,  0.03102917,  0.05531585,  0.00206617,\n",
       "        0.02275042,  0.08833597,  0.04931151,  0.03976774,  0.02901499,\n",
       "        0.03745187,  0.00012718,  0.08928612,  0.0114759 ,  0.03527387,\n",
       "        0.04639762,  0.09119418,  0.00530006,  0.02284863,  0.06868311,\n",
       "        0.01021262,  0.05279242,  0.06017938,  0.01114348,  0.04857431,\n",
       "        0.07499929,  0.02974349,  0.06334363,  0.04547217,  0.08426464,\n",
       "        0.0683972 ,  0.06080611,  0.02567495,  0.09564502,  0.04198747,\n",
       "        0.07589064,  0.0732298 ,  0.01002578,  0.08865554,  0.05907363,\n",
       "        0.03936169,  0.09156775,  0.02881187,  0.01717439,  0.09987626,\n",
       "        0.01495213,  0.07704938,  0.03467745,  0.00562857,  0.02008411,\n",
       "        0.01525359,  0.07566787,  0.02879497,  0.05754626,  0.06602124,\n",
       "        0.03643789,  0.02235957,  0.02569529,  0.06524166,  0.06393648,\n",
       "        0.09137746,  0.03058272,  0.08581241,  0.04461346,  0.07419443,\n",
       "        0.02443179,  0.02103413,  0.08183175,  0.09203251,  0.08758288,\n",
       "        0.02851786,  0.09257785,  0.06692569,  0.09810018,  0.08151609,\n",
       "        0.03439759,  0.06781278,  0.06938852,  0.0094497 ,  0.07707801,\n",
       "        0.02743606,  0.05485628,  0.01879179,  0.05078529,  0.02567376,\n",
       "        0.09683044,  0.05127977,  0.06851081,  0.00138176,  0.09391792,\n",
       "        0.08988921,  0.0265259 ,  0.05854613,  0.03903198,  0.05758154,\n",
       "        0.09294118,  0.08944941,  0.08819929,  0.02413792,  0.08509414,\n",
       "        0.01193916,  0.06545116,  0.07630027,  0.09693639,  0.05887323,\n",
       "        0.02675139,  0.08895021])"
      ]
     },
     "execution_count": 113,
     "metadata": {},
     "output_type": "execute_result"
    }
   ],
   "source": [
    "z[:numObjectsPerBin.values[i]]"
   ]
  },
  {
   "cell_type": "code",
   "execution_count": 116,
   "metadata": {
    "collapsed": true
   },
   "outputs": [],
   "source": [
    "for i in range (len(numObjectsPerBin)):\n",
    "    z[:numObjectsPerBin.values[i]]+= .1"
   ]
  },
  {
   "cell_type": "code",
   "execution_count": 121,
   "metadata": {
    "collapsed": false
   },
   "outputs": [
    {
     "data": {
      "text/plain": [
       "(array([ 41694.,    678.,    259.,    711.,    355.,   1390.,   1422.,\n",
       "           614.,   1099.,   1326.,    258.]),\n",
       " array([ 0. ,  0.1,  0.2,  0.3,  0.4,  0.5,  0.6,  0.7,  0.8,  0.9,  1. ,\n",
       "         1.1]),\n",
       " <a list of 11 Patch objects>)"
      ]
     },
     "execution_count": 121,
     "metadata": {},
     "output_type": "execute_result"
    },
    {
     "data": {
      "image/png": "[encoded data removed]",
      "text/plain": [
       "<matplotlib.figure.Figure at 0x11af514e0>"
      ]
     },
     "metadata": {},
     "output_type": "display_data"
    }
   ],
   "source": [
    "plt.hist(z, bins= np.arange(0,1.2,.1))\n"
   ]
  },
  {
   "cell_type": "code",
   "execution_count": 122,
   "metadata": {
    "collapsed": false
   },
   "outputs": [
    {
     "data": {
      "text/plain": [
       "array([ 1.29991632,  1.1483836 ,  1.17928154, ...,  0.05068257,\n",
       "        0.02401961,  0.06554794])"
      ]
     },
     "execution_count": 122,
     "metadata": {},
     "output_type": "execute_result"
    }
   ],
   "source": [
    "z[10:]"
   ]
  },
  {
   "cell_type": "code",
   "execution_count": 123,
   "metadata": {
    "collapsed": false
   },
   "outputs": [
    {
     "data": {
      "text/plain": [
       "array([ 1.28658805,  1.29589284,  1.26418976, ...,  0.05068257,\n",
       "        0.02401961,  0.06554794])"
      ]
     },
     "execution_count": 123,
     "metadata": {},
     "output_type": "execute_result"
    }
   ],
   "source": [
    "z"
   ]
  },
  {
   "cell_type": "code",
   "execution_count": 127,
   "metadata": {
    "collapsed": true
   },
   "outputs": [],
   "source": [
    "from astropy.cosmology import Planck15"
   ]
  },
  {
   "cell_type": "code",
   "execution_count": 128,
   "metadata": {
    "collapsed": false
   },
   "outputs": [
    {
     "data": {
      "text/plain": [
       "array([ 44.834961  ,  44.85426078,  44.78791994, ...,  36.83562208,\n",
       "        35.17206872,  37.41688772])"
      ]
     },
     "execution_count": 128,
     "metadata": {},
     "output_type": "execute_result"
    }
   ],
   "source": [
    "Planck15.distmod(z).value"
   ]
  },
  {
   "cell_type": "code",
   "execution_count": 136,
   "metadata": {
    "collapsed": false
   },
   "outputs": [
    {
     "data": {
      "text/plain": [
       "[array([ 0.91941205,  1.76466685,  1.79642477,  2.24608513, -1.20968645,\n",
       "         0.71445211,  1.34014932,  3.04591093,  1.08341817,  0.47791657,\n",
       "         0.66347232, -0.21995493,  1.74907226,  0.71856483,  3.87252269,\n",
       "         0.65245052,  1.28400697,  2.21388052, -0.07750609, -0.75914447,\n",
       "        -1.25930482,  2.76122054,  0.86582104,  1.60613476, -1.0934847 ,\n",
       "         1.44614086,  1.11597078,  0.80973891,  2.65808119,  0.52027908,\n",
       "        -0.40061102,  1.432127  , -0.21343925,  3.06297737,  2.81787563,\n",
       "         0.8494697 ,  2.59530725,  0.25713775,  1.88944041,  2.76106885,\n",
       "         2.62599904,  2.5123945 ,  3.16984068,  2.6632955 , -0.49352696,\n",
       "         2.15644649, -0.07426677,  2.13256517,  1.09974114,  0.5724119 ,\n",
       "         0.08107513,  2.76831196,  1.19551538,  3.45336932,  1.47261591,\n",
       "         1.56467441,  0.52669013,  0.58153201,  3.3127229 ,  1.95425121,\n",
       "         1.33633091,  1.43214632,  1.61035914,  0.43423544,  3.26385879,\n",
       "         0.09448501,  1.10261395,  2.07225217,  3.19495831,  1.21777035,\n",
       "         1.4132737 ,  1.83110981,  2.23731575,  1.73075041, -0.31365794,\n",
       "         2.23617573,  1.30692248,  1.29021689,  1.15758241,  1.03476058,\n",
       "         1.24148881,  1.48313243,  1.35346441,  0.40657226,  2.97579993,\n",
       "         0.33717898,  2.10053447,  1.2813015 ,  0.70631711,  2.44645259,\n",
       "         1.55868179,  2.57481174,  3.069692  , -1.09244834,  1.0486876 ,\n",
       "         0.93495477,  0.72343775,  1.47557409,  0.99025586, -1.44798646,\n",
       "         2.41567595,  1.58858351,  1.35467577, -1.79039709,  3.49962274,\n",
       "         1.88930747,  2.77428596,  1.59165262,  0.58561573,  0.84800403,\n",
       "         0.99489482, -0.64192608,  3.48760402,  2.69932511,  0.3384258 ,\n",
       "         0.7022696 , -2.57139818, -0.4705063 , -0.43175914,  0.07447956,\n",
       "         1.79764478,  4.67972775,  3.41357967, -0.3137562 ,  1.311513  ,\n",
       "         1.99398059,  1.80102485,  1.87848753,  0.71228015,  3.29497036,\n",
       "         0.5171867 ,  0.56031997,  0.21301045,  0.12592147,  0.39324208,\n",
       "         0.33079894,  0.53381634,  0.51821554,  1.66426044, -0.45045163,\n",
       "         1.8057348 ,  1.10756182,  1.83453383,  0.55114982,  0.63019915,\n",
       "         1.91916563,  1.98021513,  2.30931597, -1.1642457 ,  1.01762514,\n",
       "         2.81586776,  1.5131604 ,  0.60103604,  1.81283486,  0.00592637,\n",
       "         2.87096826,  0.1831927 ,  3.9361924 ,  0.74498874,  1.61414099,\n",
       "         0.77935623,  2.4723871 ,  0.55723687,  0.30441865,  0.98964967,\n",
       "         2.15524037,  0.35514599,  1.02771343,  0.15413977,  0.72204913,\n",
       "         1.40357466,  1.38138351,  1.35168933,  1.67954056,  2.50096328,\n",
       "         1.28683682, -0.20230408,  0.69375055,  3.30938341,  1.3616324 ,\n",
       "         0.20841943,  0.02049561,  0.86850753,  2.06088227, -0.41895232,\n",
       "         0.59882941,  0.28999041, -0.06355941, -0.0247653 ,  1.71073986,\n",
       "         2.47668442,  1.75045745,  2.23818737,  2.72069112]),\n",
       " array([ 1.21801465,  0.21744915, -0.61254393, -1.40515413,  2.4465366 ,\n",
       "         1.24887305, -1.47989891,  5.20326087, -1.18721167, -1.03738215,\n",
       "        -2.12301752,  2.18535085,  2.03826665, -3.09305971,  1.02961898,\n",
       "         1.86167897,  1.06258227,  0.5335352 , -1.38194113, -2.07408933,\n",
       "         3.52774399,  0.06454552,  5.61816392, -2.69169638, -1.45611903,\n",
       "         0.70076658,  2.96349738, -1.7962058 ,  1.73633939,  2.5994339 ,\n",
       "         0.4207755 , -1.70633534,  3.25264626, -2.41132651, -0.92314802,\n",
       "         2.76906699,  0.74273504,  2.64750046, -2.25774167,  0.03000079,\n",
       "         0.49497403,  5.46069492,  1.59345658,  1.83670091,  0.60163126,\n",
       "        -0.18048723,  2.78083371,  0.50197419,  4.65009843,  1.16618078,\n",
       "         4.28421228,  3.65992311,  1.48620202,  0.23957403,  1.63938942,\n",
       "        -0.68186235, -1.12565955,  2.90625322,  2.05662728,  2.37082498,\n",
       "         0.33876096,  1.08775664, -3.41065365,  1.82421559, -2.60046416,\n",
       "         3.04870816,  3.95052832,  0.39478991,  2.06783991,  0.00914351,\n",
       "         1.02029886,  1.51134235,  0.02937802,  3.07509441,  4.48687809,\n",
       "         5.49495275, -2.31814719,  1.21670122, -3.83218586,  4.34626072,\n",
       "         1.38121353, -1.99949721, -1.382349  ,  5.4913175 ,  0.81214526,\n",
       "         0.80628186,  1.59276596, -0.54350443, -1.20212262,  3.21075269,\n",
       "         3.16434663,  2.15097272, -1.1965933 ,  0.07127911,  2.77729919,\n",
       "        -0.07444884,  1.76314397, -0.29195462, -1.54332261,  2.16922444,\n",
       "         0.34103678,  6.40237349, -0.16923724,  2.13401871,  2.09106414,\n",
       "         3.39224061,  0.575955  ,  3.2470201 ,  2.12246329,  2.82057012,\n",
       "        -0.22825992,  0.35343345, -1.54421087, -0.46801605,  0.98609055,\n",
       "         4.29682716, -0.75636277,  2.23935187, -0.25027604,  1.30843107,\n",
       "         0.3335783 ,  3.27967681, -0.37297322,  0.63343317,  3.09959684,\n",
       "         1.98638259,  1.1547528 , -1.29951415,  2.96468453,  3.33577818,\n",
       "         3.97639361,  3.58792727,  3.6182343 , -2.38511559, -4.44023933,\n",
       "         4.42762819,  1.67797996,  1.12922556,  4.6859494 ,  2.07944694,\n",
       "        -0.97771947,  0.6398722 ,  1.67777337,  2.56018686,  4.66255389,\n",
       "         0.20572192,  0.89099169,  2.38695557,  0.62996956,  1.08547848,\n",
       "         3.89642808,  2.53803705, -0.82535929,  1.08556385,  2.48675815,\n",
       "         1.45324189, -0.4523502 ,  5.32636802, -2.85267099, -0.60292873,\n",
       "         4.58910446,  0.88971352,  0.03759767, -0.59103607,  4.26841638,\n",
       "         4.68941872,  2.03841984, -1.69006638,  2.66279372,  2.17590672,\n",
       "         2.07979478,  4.89297899,  1.19077694,  3.02530921,  1.21790084,\n",
       "         0.25550581,  5.08505739,  1.16654272,  2.27976237,  2.15440425,\n",
       "        -0.18924369,  5.74991775, -0.84069553,  3.74875324, -2.84174521,\n",
       "         4.14102465, -1.53234099,  3.68625982,  1.40796864,  4.40073671,\n",
       "        -1.68099837,  1.26990275,  0.94494217,  3.83690454,  4.32781584,\n",
       "         2.08754145, -0.45166757,  1.09358582,  2.17664704, -0.04125383,\n",
       "         0.6420133 , -0.07958581, -0.63871469,  1.58562096,  0.17681271,\n",
       "         0.6014084 ,  0.69852918,  1.59334003,  0.3859    ,  3.01691339,\n",
       "         2.86864191, -0.97684504, -4.05069087,  3.47795353,  1.21730695,\n",
       "        -0.10863824,  1.9162428 , -0.53266489,  2.9797757 ,  2.21363601,\n",
       "        -3.20249308, -0.05172571,  2.47047515,  4.71729483, -2.65106499,\n",
       "         0.6598671 ,  0.06874638, -4.0246885 , -0.32797235,  0.32321947,\n",
       "         2.84192902,  0.1747221 ,  2.28583216,  0.61465671, -1.88975771,\n",
       "         5.52080288,  1.8077256 ,  4.22814689,  2.228753  ,  3.0773972 ,\n",
       "         5.03515319,  1.4698922 ,  1.31357381,  1.02764702,  4.23787259,\n",
       "        -0.43543536,  1.42776895,  2.40289804,  2.72264354,  1.34410505,\n",
       "         2.05655905,  5.37932808,  3.71697524, -0.03929529,  2.15494953,\n",
       "         3.65620403,  0.15250199,  0.71282267,  2.81895471,  0.15985822,\n",
       "         4.67777157,  3.01123099,  2.9947548 ,  0.24884136,  0.50853131,\n",
       "         1.62118393,  0.02207697, -1.61990843,  5.11698462,  0.27009495,\n",
       "         1.62531451,  2.95163498, -0.68661777, -0.18870117, -1.08002514,\n",
       "        -0.19074187,  0.23880373,  4.90742651,  1.34933489,  0.60875291,\n",
       "         0.45271716,  0.06972526,  0.58620381, -1.34602456,  1.15244615,\n",
       "         0.62925775,  1.62279246,  0.70515868,  0.23862288, -1.95363727,\n",
       "         1.87067787,  3.42823864, -0.01316541, -1.87685297,  3.90892452,\n",
       "        -0.30868768, -0.89474569,  1.83738608, -6.55896696,  1.20886276,\n",
       "         4.2604269 ,  1.85045674, -1.47681766, -0.16574367, -0.16387231,\n",
       "        -0.34315226,  2.89607021, -1.00266087,  2.06494382,  0.01774086,\n",
       "        -0.62763465, -0.47599064, -0.78550099, -0.19356723,  2.25952591,\n",
       "        -2.93527776,  4.11546959,  2.21680693,  3.97427558,  1.49698689,\n",
       "         0.21662408,  2.8631771 , -2.7818283 , -2.18995911,  2.11428715,\n",
       "         3.2636457 ,  2.14885543,  2.36667792,  1.44844594,  3.83279383,\n",
       "        -3.80291697,  3.95667035,  0.12506173, -0.96423275,  2.12948608,\n",
       "         2.5993259 , -0.91575973,  1.32128938, -0.01031439,  2.28640351,\n",
       "        -2.96885732,  6.79713861, -0.37372494,  1.6252449 ,  1.65698638,\n",
       "         3.0632579 ,  2.03498707, -1.59982504,  4.33357205,  2.81597842,\n",
       "         3.96691617,  2.7657277 ,  2.16427934,  1.31298055, -0.11894711,\n",
       "         2.72167592,  3.93261395,  1.04901842, -0.81084739,  2.41492258,\n",
       "         2.24362583, -0.48416489,  2.20708623,  0.37765729,  1.59227874,\n",
       "         2.83674886,  0.12800855,  3.25274832, -2.16747246,  2.09224151,\n",
       "         3.55404782,  2.67402034,  0.31726744, -2.1619644 , -0.91302757,\n",
       "        -0.0467325 , -0.07960678,  1.61908674,  1.95849785, -0.68404315,\n",
       "         3.50043633, -0.91957892, -2.29756874, -0.60367503,  4.05427919,\n",
       "         2.60094039, -0.01452733,  1.74132248, -1.74930205,  4.23234978,\n",
       "        -1.85208055,  2.41304117,  0.78189726,  4.4603183 ,  4.91811361,\n",
       "         2.38005778,  1.20217956, -2.33044263,  2.45235121,  2.75185853,\n",
       "         0.92085137,  4.73539446, -0.13172105,  1.09193343,  1.57532458,\n",
       "         6.21932246,  2.31510572,  4.3807108 ,  1.55032294,  3.98739335,\n",
       "        -0.40032869,  2.98706742,  0.39024284,  1.25918524,  2.37898164,\n",
       "         2.03131041, -0.65822439,  2.57906238,  4.41360146,  1.48123408,\n",
       "         0.17332225,  0.7537434 ,  3.50848569,  4.87256135,  2.86406944,\n",
       "         3.64932886,  2.66427165, -0.63982047,  5.44749791,  0.88000432,\n",
       "         3.55316023, -2.43625088,  2.87465796,  2.56897774,  0.9188721 ,\n",
       "         1.50291656,  0.63939704, -1.26565063,  5.13534091,  2.71386334,\n",
       "         3.88954243,  0.68446323,  1.69792613, -0.5248147 ,  1.33440876,\n",
       "        -2.92937707,  0.55953477,  6.16349832,  4.71315041,  2.04559193,\n",
       "        -0.27497168,  0.69524154]),\n",
       " array([-1.5408722 ,  0.39447498,  1.04968492, ..., -0.32970655,\n",
       "         0.80675736,  0.63774627]),\n",
       " array([  -1.25612638,   24.18799477,   26.68616045, ..., -119.39216486,\n",
       "         -17.35449773,   32.82055128]),\n",
       " array([ -8.0099281 ,   5.2529867 ,  -9.68767617, ...,  -1.549909  ,\n",
       "        -17.78474134,   2.98691861]),\n",
       " array([ 1.33260314, -1.60781237,  4.325156  , ..., -1.69459415,\n",
       "        -0.62447202, -2.20421719]),\n",
       " array([-42.94714321,  18.19712244, -65.37203634, ...,  92.64770655,\n",
       "          4.73570097,  15.44587678]),\n",
       " array([ -56.42870998,   46.44616314, -133.16861415, ...,  -38.39976682,\n",
       "         259.01691749,   34.91273697]),\n",
       " array([  1.22211424,   1.89645756,  10.8729744 , ...,   2.01093988,\n",
       "          8.5318175 ,  -7.08863476]),\n",
       " array([  4.42437716, -10.81879198,  -3.45798813, ...,   8.90342025,\n",
       "        -17.73603013,   1.61798803])]"
      ]
     },
     "execution_count": 136,
     "metadata": {},
     "output_type": "execute_result"
    }
   ],
   "source": [
    "X"
   ]
  },
  {
   "cell_type": "code",
   "execution_count": null,
   "metadata": {
    "collapsed": true
   },
   "outputs": [],
   "source": []
  }
 ],
 "metadata": {
  "anaconda-cloud": {},
  "kernelspec": {
   "display_name": "Python [default]",
   "language": "python",
   "name": "python3"
  },
  "language_info": {
   "codemirror_mode": {
    "name": "ipython",
    "version": 3
   },
   "file_extension": ".py",
   "mimetype": "text/x-python",
   "name": "python",
   "nbconvert_exporter": "python",
   "pygments_lexer": "ipython3",
   "version": "3.5.2"
  }
 },
 "nbformat": 4,
 "nbformat_minor": 1
}
